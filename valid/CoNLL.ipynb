{
 "cells": [
  {
   "cell_type": "code",
   "execution_count": 1,
   "metadata": {
    "collapsed": true
   },
   "outputs": [
    {
     "name": "stderr",
     "output_type": "stream",
     "text": [
      "┌ Info: Recompiling stale cache file /home/ayushk4/.julia/compiled/v1.0/TextAnalysis/5Mwet.ji for TextAnalysis [a2db99b7-8b79-58f8-94bf-bbc811eef33d]\n",
      "└ @ Base loading.jl:1190\n",
      "┌ Warning: Package TextAnalysis does not have Libdl in its dependencies:\n",
      "│ - If you have TextAnalysis checked out for development and have\n",
      "│   added Libdl as a dependency but haven't updated your primary\n",
      "│   environment's manifest file, try `Pkg.resolve()`.\n",
      "│ - Otherwise you may need to report an issue with TextAnalysis\n",
      "└ Loading Libdl into TextAnalysis from project dependency, future warnings for TextAnalysis are suppressed.\n",
      "┌ Info: Recompiling stale cache file /home/ayushk4/.julia/compiled/v1.0/CorpusLoaders/jEgYN.ji for CorpusLoaders [8f4694b6-a17a-549f-a57e-76e1fca3f017]\n",
      "└ @ Base loading.jl:1190\n",
      "┌ Warning: Package CorpusLoaders does not have CSV in its dependencies:\n",
      "│ - If you have CorpusLoaders checked out for development and have\n",
      "│   added CSV as a dependency but haven't updated your primary\n",
      "│   environment's manifest file, try `Pkg.resolve()`.\n",
      "│ - Otherwise you may need to report an issue with CorpusLoaders\n",
      "└ Loading CSV into CorpusLoaders from project dependency, future warnings for CorpusLoaders are suppressed.\n"
     ]
    }
   ],
   "source": [
    "using TextAnalysis, CorpusLoaders, MultiResolutionIterators"
   ]
  },
  {
   "cell_type": "code",
   "execution_count": 2,
   "metadata": {
    "collapsed": true
   },
   "outputs": [
    {
     "data": {
      "text/plain": [
       "TextAnalysis.POS_model{TextAnalysis.BiLSTM_CNN_CRF_Model{Flux.Conv{2,2,typeof(identity),TrackedArray{…,Array{Float32,4}},TrackedArray{…,Array{Float32,1}}},Array{Float32,2},Flux.Recur{Flux.LSTMCell{TrackedArray{…,Array{Float32,2}},TrackedArray{…,Array{Float32,1}}}},Flux.Dense{typeof(identity),TrackedArray{…,Array{Float32,2}},TrackedArray{…,Array{Float32,1}}},CRF{TrackedArray{…,Array{Float32,2}}},Array{Int64,2}}}(TextAnalysis.BiLSTM_CNN_CRF_Model{Flux.Conv{2,2,typeof(identity),TrackedArray{…,Array{Float32,4}},TrackedArray{…,Array{Float32,1}}},Array{Float32,2},Flux.Recur{Flux.LSTMCell{TrackedArray{…,Array{Float32,2}},TrackedArray{…,Array{Float32,1}}}},Flux.Dense{typeof(identity),TrackedArray{…,Array{Float32,2}},TrackedArray{…,Array{Float32,1}}},CRF{TrackedArray{…,Array{Float32,2}}},Array{Int64,2}}([\"NNP\", \"VBZ\", \"JJ\", \"NN\", \"TO\", \"VB\", \".\", \"CD\", \"DT\", \"VBD\"  …  \"NNPS\", \"SYM\", \"RBS\", \"UH\", \"PDT\", \"''\", \"LS\", \"JJS\", \"WP\\$\", \"NN|SYM\"], Dict('w'=>81,'E'=>34,'7'=>22,'Z'=>55,']'=>57,'o'=>73,'B'=>31,'5'=>20,'h'=>66,'i'=>67…), Dict(\"newdigate\"=>164100,\"daufuskie\"=>254784,\"single-arm\"=>192007,\"titration\"=>117879,\"qajar\"=>66399,\"pinheiro\"=>38763,\"hospitalet\"=>282158,\"kennedale\"=>223560,\"tetracyclic\"=>353804,\"moher\"=>167242…), Conv((25, 3), 1=>30), Float32[0.324532 0.276628 … 0.93317 0.668837; 0.0416131 0.155551 … 0.972256 0.629057; … ; 0.532381 0.0118539 … 0.887152 0.995463; 0.357967 0.00347014 … 0.955667 0.699518], Float32[-0.038194 -0.10767 … 0.130363 0.320545; -0.24487 0.11053 … 0.417304 0.333687; … ; 0.8278 0.45293 … 0.560038 0.227423; 0.27062 0.082577 … 0.784674 0.972542], Recur(LSTMCell(130, 200)), Recur(LSTMCell(130, 200)), Dense(400, 47), CRF with 47 distinct tags (including START and STOP tags)., [-10000; -10000; … ; 0; -10000], 400001, 85))"
      ]
     },
     "execution_count": 2,
     "metadata": {},
     "output_type": "execute_result"
    }
   ],
   "source": [
    "pos = POS_Tagger()"
   ]
  },
  {
   "cell_type": "code",
   "execution_count": 3,
   "metadata": {
    "collapsed": true
   },
   "outputs": [
    {
     "data": {
      "text/plain": [
       "CorpusLoaders.Document{Array{Array{CorpusLoaders.NERTaggedWord,1},1},String}(\"test.txt\", Array{CorpusLoaders.NERTaggedWord,1}[[NERTaggedWord(\"O\", \"B-NP\", \"NN\", \"SOCCER\"), NERTaggedWord(\"O\", \"O\", \":\", \"-\"), NERTaggedWord(\"B-LOC\", \"B-NP\", \"NNP\", \"JAPAN\"), NERTaggedWord(\"O\", \"B-VP\", \"VB\", \"GET\"), NERTaggedWord(\"O\", \"B-NP\", \"NNP\", \"LUCKY\"), NERTaggedWord(\"O\", \"I-NP\", \"NNP\", \"WIN\"), NERTaggedWord(\"O\", \"O\", \",\", \",\"), NERTaggedWord(\"B-PER\", \"B-NP\", \"NNP\", \"CHINA\"), NERTaggedWord(\"O\", \"B-PP\", \"IN\", \"IN\"), NERTaggedWord(\"O\", \"B-NP\", \"DT\", \"SURPRISE\"), NERTaggedWord(\"O\", \"I-NP\", \"NN\", \"DEFEAT\"), NERTaggedWord(\"O\", \"O\", \".\", \".\")], [NERTaggedWord(\"B-PER\", \"B-NP\", \"NNP\", \"Nadim\"), NERTaggedWord(\"I-PER\", \"I-NP\", \"NNP\", \"Ladki\")], [NERTaggedWord(\"B-LOC\", \"B-NP\", \"NNP\", \"AL-AIN\"), NERTaggedWord(\"O\", \"O\", \",\", \",\"), NERTaggedWord(\"B-LOC\", \"B-NP\", \"NNP\", \"United\"), NERTaggedWord(\"I-LOC\", \"I-NP\", \"NNP\", \"Arab\"), NERTaggedWord(\"I-LOC\", \"I-NP\", \"NNPS\", \"Emirates\"), NERTaggedWord(\"O\", \"I-NP\", \"CD\", \"1996-12-06\")], [NERTaggedWord(\"B-LOC\", \"B-NP\", \"NNP\", \"Japan\"), NERTaggedWord(\"O\", \"B-VP\", \"VBD\", \"began\"), NERTaggedWord(\"O\", \"B-NP\", \"DT\", \"the\"), NERTaggedWord(\"O\", \"I-NP\", \"NN\", \"defence\"), NERTaggedWord(\"O\", \"B-PP\", \"IN\", \"of\"), NERTaggedWord(\"O\", \"B-NP\", \"PRP\\$\", \"their\"), NERTaggedWord(\"B-MISC\", \"I-NP\", \"JJ\", \"Asian\"), NERTaggedWord(\"I-MISC\", \"I-NP\", \"NNP\", \"Cup\"), NERTaggedWord(\"O\", \"I-NP\", \"NN\", \"title\"), NERTaggedWord(\"O\", \"B-PP\", \"IN\", \"with\")  …  NERTaggedWord(\"B-LOC\", \"B-NP\", \"NNP\", \"Syria\"), NERTaggedWord(\"O\", \"B-PP\", \"IN\", \"in\"), NERTaggedWord(\"O\", \"B-NP\", \"DT\", \"a\"), NERTaggedWord(\"O\", \"I-NP\", \"NNP\", \"Group\"), NERTaggedWord(\"O\", \"I-NP\", \"NNP\", \"C\"), NERTaggedWord(\"O\", \"I-NP\", \"NN\", \"championship\"), NERTaggedWord(\"O\", \"I-NP\", \"NN\", \"match\"), NERTaggedWord(\"O\", \"B-PP\", \"IN\", \"on\"), NERTaggedWord(\"O\", \"B-NP\", \"NNP\", \"Friday\"), NERTaggedWord(\"O\", \"O\", \".\", \".\")], [NERTaggedWord(\"O\", \"O\", \"CC\", \"But\"), NERTaggedWord(\"B-LOC\", \"B-NP\", \"NNP\", \"China\"), NERTaggedWord(\"O\", \"B-VP\", \"VBD\", \"saw\"), NERTaggedWord(\"O\", \"B-NP\", \"PRP\\$\", \"their\"), NERTaggedWord(\"O\", \"I-NP\", \"NN\", \"luck\"), NERTaggedWord(\"O\", \"B-VP\", \"VB\", \"desert\"), NERTaggedWord(\"O\", \"B-NP\", \"PRP\", \"them\"), NERTaggedWord(\"O\", \"B-PP\", \"IN\", \"in\"), NERTaggedWord(\"O\", \"B-NP\", \"DT\", \"the\"), NERTaggedWord(\"O\", \"I-NP\", \"NN\", \"second\")  …  NERTaggedWord(\"O\", \"B-VP\", \"VBG\", \"crashing\"), NERTaggedWord(\"O\", \"B-PP\", \"TO\", \"to\"), NERTaggedWord(\"O\", \"B-NP\", \"DT\", \"a\"), NERTaggedWord(\"O\", \"I-NP\", \"NN\", \"surprise\"), NERTaggedWord(\"O\", \"I-NP\", \"CD\", \"2-0\"), NERTaggedWord(\"O\", \"I-NP\", \"NN\", \"defeat\"), NERTaggedWord(\"O\", \"B-PP\", \"TO\", \"to\"), NERTaggedWord(\"O\", \"B-NP\", \"NNS\", \"newcomers\"), NERTaggedWord(\"B-LOC\", \"I-NP\", \"NNP\", \"Uzbekistan\"), NERTaggedWord(\"O\", \"O\", \".\", \".\")], [NERTaggedWord(\"B-LOC\", \"B-NP\", \"NNP\", \"China\"), NERTaggedWord(\"O\", \"B-VP\", \"VBD\", \"controlled\"), NERTaggedWord(\"O\", \"B-NP\", \"JJS\", \"most\"), NERTaggedWord(\"O\", \"B-PP\", \"IN\", \"of\"), NERTaggedWord(\"O\", \"B-NP\", \"DT\", \"the\"), NERTaggedWord(\"O\", \"I-NP\", \"NN\", \"match\"), NERTaggedWord(\"O\", \"O\", \"CC\", \"and\"), NERTaggedWord(\"O\", \"B-VP\", \"VBD\", \"saw\"), NERTaggedWord(\"O\", \"B-NP\", \"JJ\", \"several\"), NERTaggedWord(\"O\", \"I-NP\", \"NNS\", \"chances\")  …  NERTaggedWord(\"O\", \"B-NP\", \"DT\", \"the\"), NERTaggedWord(\"O\", \"I-NP\", \"VBG\", \"advancing\"), NERTaggedWord(\"B-MISC\", \"I-NP\", \"JJ\", \"Chinese\"), NERTaggedWord(\"O\", \"I-NP\", \"NN\", \"keeper\"), NERTaggedWord(\"O\", \"O\", \"CC\", \"and\"), NERTaggedWord(\"O\", \"B-PP\", \"IN\", \"into\"), NERTaggedWord(\"O\", \"B-NP\", \"DT\", \"an\"), NERTaggedWord(\"O\", \"I-NP\", \"JJ\", \"empty\"), NERTaggedWord(\"O\", \"I-NP\", \"NN\", \"net\"), NERTaggedWord(\"O\", \"O\", \".\", \".\")], [NERTaggedWord(\"B-PER\", \"B-NP\", \"NNP\", \"Oleg\"), NERTaggedWord(\"I-PER\", \"I-NP\", \"NNP\", \"Shatskiku\"), NERTaggedWord(\"O\", \"B-VP\", \"VBD\", \"made\"), NERTaggedWord(\"O\", \"B-ADJP\", \"JJ\", \"sure\"), NERTaggedWord(\"O\", \"B-PP\", \"IN\", \"of\"), NERTaggedWord(\"O\", \"B-NP\", \"DT\", \"the\"), NERTaggedWord(\"O\", \"B-VP\", \"VBP\", \"win\"), NERTaggedWord(\"O\", \"B-PP\", \"IN\", \"in\"), NERTaggedWord(\"O\", \"B-NP\", \"NN\", \"injury\"), NERTaggedWord(\"O\", \"I-NP\", \"NN\", \"time\")  …  NERTaggedWord(\"O\", \"I-NP\", \"JJ\", \"unstoppable\"), NERTaggedWord(\"O\", \"B-VP\", \"VBD\", \"left\"), NERTaggedWord(\"O\", \"B-NP\", \"NN\", \"foot\"), NERTaggedWord(\"O\", \"I-NP\", \"NN\", \"shot\"), NERTaggedWord(\"O\", \"B-PP\", \"IN\", \"from\"), NERTaggedWord(\"O\", \"B-NP\", \"RB\", \"just\"), NERTaggedWord(\"O\", \"B-PP\", \"IN\", \"outside\"), NERTaggedWord(\"O\", \"B-NP\", \"DT\", \"the\"), NERTaggedWord(\"O\", \"I-NP\", \"NN\", \"area\"), NERTaggedWord(\"O\", \"O\", \".\", \".\")], [NERTaggedWord(\"O\", \"B-NP\", \"DT\", \"The\"), NERTaggedWord(\"O\", \"I-NP\", \"JJ\", \"former\"), NERTaggedWord(\"B-MISC\", \"I-NP\", \"JJ\", \"Soviet\"), NERTaggedWord(\"O\", \"I-NP\", \"NN\", \"republic\"), NERTaggedWord(\"O\", \"B-VP\", \"VBD\", \"was\"), NERTaggedWord(\"O\", \"I-VP\", \"VBG\", \"playing\"), NERTaggedWord(\"O\", \"B-PP\", \"IN\", \"in\"), NERTaggedWord(\"O\", \"B-NP\", \"DT\", \"an\"), NERTaggedWord(\"B-MISC\", \"I-NP\", \"NNP\", \"Asian\"), NERTaggedWord(\"I-MISC\", \"I-NP\", \"NNP\", \"Cup\"), NERTaggedWord(\"O\", \"I-NP\", \"NNS\", \"finals\"), NERTaggedWord(\"O\", \"I-NP\", \"NN\", \"tie\"), NERTaggedWord(\"O\", \"B-PP\", \"IN\", \"for\"), NERTaggedWord(\"O\", \"B-NP\", \"DT\", \"the\"), NERTaggedWord(\"O\", \"I-NP\", \"JJ\", \"first\"), NERTaggedWord(\"O\", \"I-NP\", \"NN\", \"time\"), NERTaggedWord(\"O\", \"O\", \".\", \".\")], [NERTaggedWord(\"O\", \"B-PP\", \"IN\", \"Despite\"), NERTaggedWord(\"O\", \"B-VP\", \"VBG\", \"winning\"), NERTaggedWord(\"O\", \"B-NP\", \"DT\", \"the\"), NERTaggedWord(\"B-MISC\", \"I-NP\", \"JJ\", \"Asian\"), NERTaggedWord(\"I-MISC\", \"I-NP\", \"NNPS\", \"Games\"), NERTaggedWord(\"O\", \"I-NP\", \"NN\", \"title\"), NERTaggedWord(\"O\", \"B-NP\", \"CD\", \"two\"), NERTaggedWord(\"O\", \"I-NP\", \"NNS\", \"years\"), NERTaggedWord(\"O\", \"B-ADVP\", \"RB\", \"ago\"), NERTaggedWord(\"O\", \"O\", \",\", \",\"), NERTaggedWord(\"B-LOC\", \"B-NP\", \"NNP\", \"Uzbekistan\"), NERTaggedWord(\"O\", \"B-VP\", \"VBP\", \"are\"), NERTaggedWord(\"O\", \"B-PP\", \"IN\", \"in\"), NERTaggedWord(\"O\", \"B-NP\", \"DT\", \"the\"), NERTaggedWord(\"O\", \"I-NP\", \"NNS\", \"finals\"), NERTaggedWord(\"O\", \"B-SBAR\", \"IN\", \"as\"), NERTaggedWord(\"O\", \"B-NP\", \"NNS\", \"outsiders\"), NERTaggedWord(\"O\", \"O\", \".\", \".\")], [NERTaggedWord(\"O\", \"B-NP\", \"CD\", \"Two\"), NERTaggedWord(\"O\", \"I-NP\", \"NNS\", \"goals\"), NERTaggedWord(\"O\", \"B-PP\", \"IN\", \"from\"), NERTaggedWord(\"O\", \"B-NP\", \"JJ\", \"defensive\"), NERTaggedWord(\"O\", \"I-NP\", \"NNS\", \"errors\"), NERTaggedWord(\"O\", \"B-PP\", \"IN\", \"in\"), NERTaggedWord(\"O\", \"B-NP\", \"DT\", \"the\"), NERTaggedWord(\"O\", \"I-NP\", \"JJ\", \"last\"), NERTaggedWord(\"O\", \"I-NP\", \"CD\", \"six\"), NERTaggedWord(\"O\", \"I-NP\", \"NNS\", \"minutes\")  …  NERTaggedWord(\"O\", \"B-NP\", \"DT\", \"all\"), NERTaggedWord(\"O\", \"I-NP\", \"CD\", \"three\"), NERTaggedWord(\"O\", \"I-NP\", \"NNS\", \"points\"), NERTaggedWord(\"O\", \"B-PP\", \"IN\", \"from\"), NERTaggedWord(\"O\", \"B-NP\", \"PRP\\$\", \"their\"), NERTaggedWord(\"O\", \"I-NP\", \"NN\", \"opening\"), NERTaggedWord(\"O\", \"I-NP\", \"NN\", \"meeting\"), NERTaggedWord(\"O\", \"B-PP\", \"IN\", \"against\"), NERTaggedWord(\"B-LOC\", \"B-NP\", \"NNP\", \"Syria\"), NERTaggedWord(\"O\", \"O\", \".\", \".\")]  …  [NERTaggedWord(\"B-LOC\", \"B-NP\", \"NNP\", \"DUBLIN\"), NERTaggedWord(\"O\", \"I-NP\", \"CD\", \"1996-12-07\")], [NERTaggedWord(\"B-PER\", \"B-NP\", \"NNP\", \"Jack\"), NERTaggedWord(\"I-PER\", \"I-NP\", \"NNP\", \"Charlton\"), NERTaggedWord(\"O\", \"B-NP\", \"POS\", \"'s\"), NERTaggedWord(\"O\", \"I-NP\", \"NN\", \"relationship\"), NERTaggedWord(\"O\", \"B-PP\", \"IN\", \"with\"), NERTaggedWord(\"O\", \"B-NP\", \"DT\", \"the\"), NERTaggedWord(\"O\", \"I-NP\", \"NNS\", \"people\"), NERTaggedWord(\"O\", \"B-PP\", \"IN\", \"of\"), NERTaggedWord(\"B-LOC\", \"B-NP\", \"NNP\", \"Ireland\"), NERTaggedWord(\"O\", \"B-VP\", \"VBD\", \"was\")  …  NERTaggedWord(\"O\", \"B-NP\", \"DT\", \"the\"), NERTaggedWord(\"B-MISC\", \"I-NP\", \"NNP\", \"Englishman\"), NERTaggedWord(\"O\", \"B-VP\", \"VBD\", \"was\"), NERTaggedWord(\"O\", \"I-VP\", \"RB\", \"officially\"), NERTaggedWord(\"O\", \"I-VP\", \"VBD\", \"declared\"), NERTaggedWord(\"O\", \"B-NP\", \"CD\", \"one\"), NERTaggedWord(\"O\", \"B-PP\", \"IN\", \"of\"), NERTaggedWord(\"O\", \"B-NP\", \"PRP\\$\", \"their\"), NERTaggedWord(\"O\", \"I-NP\", \"JJ\", \"own\"), NERTaggedWord(\"O\", \"O\", \".\", \".\")], [NERTaggedWord(\"B-PER\", \"B-ADJP\", \"JJ\", \"Charlton\"), NERTaggedWord(\"O\", \"O\", \",\", \",\"), NERTaggedWord(\"O\", \"B-NP\", \"CD\", \"61\"), NERTaggedWord(\"O\", \"O\", \",\", \",\"), NERTaggedWord(\"O\", \"O\", \"CC\", \"and\"), NERTaggedWord(\"O\", \"B-NP\", \"PRP\\$\", \"his\"), NERTaggedWord(\"O\", \"I-NP\", \"NN\", \"wife\"), NERTaggedWord(\"O\", \"O\", \",\", \",\"), NERTaggedWord(\"B-PER\", \"B-NP\", \"NNP\", \"Peggy\"), NERTaggedWord(\"O\", \"O\", \",\", \",\")  …  NERTaggedWord(\"O\", \"B-PP\", \"IN\", \"of\"), NERTaggedWord(\"B-PER\", \"B-NP\", \"NNP\", \"Charlton\"), NERTaggedWord(\"O\", \"B-NP\", \"POS\", \"'s\"), NERTaggedWord(\"O\", \"I-NP\", \"NNS\", \"achievements\"), NERTaggedWord(\"O\", \"B-PP\", \"IN\", \"as\"), NERTaggedWord(\"O\", \"B-NP\", \"DT\", \"the\"), NERTaggedWord(\"O\", \"I-NP\", \"JJ\", \"national\"), NERTaggedWord(\"O\", \"I-NP\", \"NN\", \"soccer\"), NERTaggedWord(\"O\", \"I-NP\", \"NN\", \"manager\"), NERTaggedWord(\"O\", \"O\", \".\", \".\")], [NERTaggedWord(\"O\", \"O\", \"\\\"\", \"\\\"\"), NERTaggedWord(\"O\", \"B-NP\", \"DT\", \"The\"), NERTaggedWord(\"O\", \"I-NP\", \"NNS\", \"years\"), NERTaggedWord(\"O\", \"B-NP\", \"PRP\", \"I\"), NERTaggedWord(\"O\", \"B-VP\", \"VBD\", \"spent\"), NERTaggedWord(\"O\", \"B-PP\", \"IN\", \"as\"), NERTaggedWord(\"O\", \"B-NP\", \"NN\", \"manager\"), NERTaggedWord(\"O\", \"B-PP\", \"IN\", \"of\"), NERTaggedWord(\"O\", \"B-NP\", \"DT\", \"the\"), NERTaggedWord(\"B-LOC\", \"I-NP\", \"NNP\", \"Republic\"), NERTaggedWord(\"I-LOC\", \"B-PP\", \"IN\", \"of\"), NERTaggedWord(\"I-LOC\", \"B-NP\", \"NNP\", \"Ireland\"), NERTaggedWord(\"O\", \"B-VP\", \"VBD\", \"were\"), NERTaggedWord(\"O\", \"B-NP\", \"DT\", \"the\"), NERTaggedWord(\"O\", \"I-NP\", \"JJS\", \"best\"), NERTaggedWord(\"O\", \"I-NP\", \"NNS\", \"years\"), NERTaggedWord(\"O\", \"B-PP\", \"IN\", \"of\"), NERTaggedWord(\"O\", \"B-NP\", \"PRP\\$\", \"my\"), NERTaggedWord(\"O\", \"I-NP\", \"NN\", \"life\"), NERTaggedWord(\"O\", \"O\", \".\", \".\")], [NERTaggedWord(\"O\", \"B-NP\", \"PRP\", \"It\"), NERTaggedWord(\"O\", \"B-NP\", \"DT\", \"all\"), NERTaggedWord(\"O\", \"B-VP\", \"VBN\", \"culminated\"), NERTaggedWord(\"O\", \"B-PP\", \"IN\", \"in\"), NERTaggedWord(\"O\", \"B-NP\", \"DT\", \"the\"), NERTaggedWord(\"O\", \"I-NP\", \"NN\", \"fact\"), NERTaggedWord(\"O\", \"B-SBAR\", \"IN\", \"that\"), NERTaggedWord(\"O\", \"B-NP\", \"PRP\", \"I\"), NERTaggedWord(\"O\", \"B-ADVP\", \"RB\", \"now\"), NERTaggedWord(\"O\", \"B-VP\", \"VBP\", \"have\"), NERTaggedWord(\"O\", \"B-NP\", \"NNS\", \"lots\"), NERTaggedWord(\"O\", \"B-PP\", \"IN\", \"of\"), NERTaggedWord(\"O\", \"B-NP\", \"JJ\", \"great\"), NERTaggedWord(\"O\", \"I-NP\", \",\", \",\"), NERTaggedWord(\"O\", \"I-NP\", \"JJ\", \"great\"), NERTaggedWord(\"O\", \"I-NP\", \"NNS\", \"friends\"), NERTaggedWord(\"O\", \"B-PP\", \"IN\", \"in\"), NERTaggedWord(\"B-LOC\", \"B-NP\", \"NNP\", \"Ireland\"), NERTaggedWord(\"O\", \"O\", \".\", \".\")], [NERTaggedWord(\"O\", \"B-NP\", \"DT\", \"That\"), NERTaggedWord(\"O\", \"B-VP\", \"VBZ\", \"is\"), NERTaggedWord(\"O\", \"B-ADVP\", \"WRB\", \"why\"), NERTaggedWord(\"O\", \"B-NP\", \"DT\", \"this\"), NERTaggedWord(\"O\", \"B-VP\", \"VBZ\", \"is\"), NERTaggedWord(\"O\", \"B-ADJP\", \"RB\", \"so\"), NERTaggedWord(\"O\", \"I-ADJP\", \"JJ\", \"emotional\"), NERTaggedWord(\"O\", \"B-NP\", \"DT\", \"a\"), NERTaggedWord(\"O\", \"I-NP\", \"NN\", \"night\"), NERTaggedWord(\"O\", \"B-PP\", \"IN\", \"for\"), NERTaggedWord(\"O\", \"B-NP\", \"PRP\", \"me\"), NERTaggedWord(\"O\", \"O\", \",\", \",\"), NERTaggedWord(\"O\", \"O\", \"\\\"\", \"\\\"\"), NERTaggedWord(\"B-PER\", \"B-NP\", \"NNP\", \"Charlton\"), NERTaggedWord(\"O\", \"B-VP\", \"VBD\", \"said\"), NERTaggedWord(\"O\", \"O\", \".\", \".\")], [NERTaggedWord(\"O\", \"O\", \"\\\"\", \"\\\"\"), NERTaggedWord(\"O\", \"B-NP\", \"PRP\", \"It\"), NERTaggedWord(\"O\", \"B-VP\", \"VBD\", \"was\"), NERTaggedWord(\"O\", \"B-NP\", \"DT\", \"the\"), NERTaggedWord(\"O\", \"I-NP\", \"NN\", \"joy\"), NERTaggedWord(\"O\", \"B-SBAR\", \"IN\", \"that\"), NERTaggedWord(\"O\", \"B-NP\", \"PRP\", \"we\"), NERTaggedWord(\"O\", \"B-NP\", \"DT\", \"all\"), NERTaggedWord(\"O\", \"B-VP\", \"VBD\", \"had\"), NERTaggedWord(\"O\", \"B-PP\", \"IN\", \"over\")  …  NERTaggedWord(\"O\", \"O\", \",\", \",\"), NERTaggedWord(\"O\", \"B-SBAR\", \"IN\", \"that\"), NERTaggedWord(\"O\", \"B-NP\", \"PRP\", \"I\"), NERTaggedWord(\"O\", \"B-NP\", \"NN\", \"treasure\"), NERTaggedWord(\"O\", \"I-NP\", \"JJS\", \"most\"), NERTaggedWord(\"O\", \"O\", \",\", \",\"), NERTaggedWord(\"O\", \"O\", \"\\\"\", \"\\\"\"), NERTaggedWord(\"O\", \"B-NP\", \"PRP\", \"he\"), NERTaggedWord(\"O\", \"B-VP\", \"VBD\", \"added\"), NERTaggedWord(\"O\", \"O\", \".\", \".\")], [NERTaggedWord(\"B-PER\", \"B-NP\", \"NNP\", \"Charlton\"), NERTaggedWord(\"O\", \"B-VP\", \"VBD\", \"managed\"), NERTaggedWord(\"B-LOC\", \"B-NP\", \"NNP\", \"Ireland\"), NERTaggedWord(\"O\", \"B-PP\", \"IN\", \"for\"), NERTaggedWord(\"O\", \"B-NP\", \"CD\", \"93\"), NERTaggedWord(\"O\", \"I-NP\", \"NNS\", \"matches\"), NERTaggedWord(\"O\", \"O\", \",\", \",\"), NERTaggedWord(\"O\", \"B-PP\", \"IN\", \"during\"), NERTaggedWord(\"O\", \"B-NP\", \"WDT\", \"which\"), NERTaggedWord(\"O\", \"I-NP\", \"NN\", \"time\")  …  NERTaggedWord(\"O\", \"B-NP\", \"RB\", \"almost\"), NERTaggedWord(\"O\", \"I-NP\", \"CD\", \"10\"), NERTaggedWord(\"O\", \"I-NP\", \"NNS\", \"years\"), NERTaggedWord(\"O\", \"B-SBAR\", \"IN\", \"until\"), NERTaggedWord(\"O\", \"B-NP\", \"PRP\", \"he\"), NERTaggedWord(\"O\", \"B-VP\", \"VBD\", \"resigned\"), NERTaggedWord(\"O\", \"B-PP\", \"IN\", \"in\"), NERTaggedWord(\"O\", \"B-NP\", \"NNP\", \"December\"), NERTaggedWord(\"O\", \"I-NP\", \"CD\", \"1995\"), NERTaggedWord(\"O\", \"O\", \".\", \".\")], [NERTaggedWord(\"O\", \"B-NP\", \"PRP\", \"He\"), NERTaggedWord(\"O\", \"B-VP\", \"VBD\", \"guided\"), NERTaggedWord(\"B-LOC\", \"B-NP\", \"NNP\", \"Ireland\"), NERTaggedWord(\"O\", \"B-VP\", \"TO\", \"to\"), NERTaggedWord(\"O\", \"B-NP\", \"CD\", \"two\"), NERTaggedWord(\"O\", \"I-NP\", \"JJ\", \"successive\"), NERTaggedWord(\"B-MISC\", \"I-NP\", \"NNP\", \"World\"), NERTaggedWord(\"I-MISC\", \"I-NP\", \"NNP\", \"Cup\"), NERTaggedWord(\"O\", \"I-NP\", \"NNS\", \"finals\"), NERTaggedWord(\"O\", \"I-NP\", \"NNS\", \"tournaments\")  …  NERTaggedWord(\"O\", \"B-NP\", \"DT\", \"a\"), NERTaggedWord(\"O\", \"I-NP\", \"JJ\", \"well-fancied\"), NERTaggedWord(\"B-LOC\", \"I-NP\", \"NNP\", \"England\"), NERTaggedWord(\"O\", \"I-NP\", \"NN\", \"team\"), NERTaggedWord(\"O\", \"I-NP\", \"CD\", \"1-0\"), NERTaggedWord(\"O\", \"B-PP\", \"IN\", \"in\"), NERTaggedWord(\"O\", \"B-NP\", \"PRP\\$\", \"their\"), NERTaggedWord(\"O\", \"I-NP\", \"NN\", \"group\"), NERTaggedWord(\"O\", \"I-NP\", \"NN\", \"qualifier\"), NERTaggedWord(\"O\", \"O\", \".\", \".\")], [NERTaggedWord(\"O\", \"B-NP\", \"DT\", \"The\"), NERTaggedWord(\"O\", \"I-NP\", \"JJ\", \"lanky\"), NERTaggedWord(\"O\", \"I-NP\", \"JJ\", \"former\"), NERTaggedWord(\"B-ORG\", \"I-NP\", \"NNP\", \"Leeds\"), NERTaggedWord(\"I-ORG\", \"I-NP\", \"NNP\", \"United\"), NERTaggedWord(\"O\", \"I-NP\", \"NN\", \"defender\"), NERTaggedWord(\"O\", \"B-VP\", \"VBD\", \"did\"), NERTaggedWord(\"O\", \"I-VP\", \"RB\", \"not\"), NERTaggedWord(\"O\", \"I-VP\", \"VB\", \"make\"), NERTaggedWord(\"O\", \"B-NP\", \"PRP\\$\", \"his\")  …  NERTaggedWord(\"I-MISC\", \"I-NP\", \"NNP\", \"Cup\"), NERTaggedWord(\"O\", \"B-NP\", \"JJ\", \"winning\"), NERTaggedWord(\"O\", \"I-NP\", \"NN\", \"team\"), NERTaggedWord(\"O\", \"B-PP\", \"IN\", \"with\"), NERTaggedWord(\"O\", \"B-NP\", \"PRP\\$\", \"his\"), NERTaggedWord(\"O\", \"I-NP\", \"JJR\", \"younger\"), NERTaggedWord(\"O\", \"I-NP\", \"NN\", \"brother\"), NERTaggedWord(\"O\", \"O\", \",\", \",\"), NERTaggedWord(\"B-PER\", \"B-NP\", \"NNP\", \"Bobby\"), NERTaggedWord(\"O\", \"O\", \".\", \".\")]])"
      ]
     },
     "execution_count": 3,
     "metadata": {},
     "output_type": "execute_result"
    }
   ],
   "source": [
    "train_set = CorpusLoaders.load(CoNLL(), \"train\") # training set\n",
    "test_set = CorpusLoaders.load(CoNLL(), \"test\") # test set\n",
    "dev_set = CorpusLoaders.load(CoNLL(), \"dev\") # dev set\n",
    "\n",
    "train_dataset = flatten_levels(train_set, lvls(CoNLL, :document)) |> full_consolidate\n",
    "dev_dataset = flatten_levels(dev_set, lvls(CoNLL, :document)) |> full_consolidate\n",
    "test_dataset = flatten_levels(test_set, lvls(CoNLL, :document)) |> full_consolidate"
   ]
  },
  {
   "cell_type": "code",
   "execution_count": 4,
   "metadata": {
    "collapsed": true
   },
   "outputs": [
    {
     "data": {
      "text/plain": [
       "(Array{String,1}[[\"SOCCER\", \"-\", \"JAPAN\", \"GET\", \"LUCKY\", \"WIN\", \",\", \"CHINA\", \"IN\", \"SURPRISE\", \"DEFEAT\", \".\"], [\"Nadim\", \"Ladki\"], [\"AL-AIN\", \",\", \"United\", \"Arab\", \"Emirates\", \"1996-12-06\"], [\"Japan\", \"began\", \"the\", \"defence\", \"of\", \"their\", \"Asian\", \"Cup\", \"title\", \"with\"  …  \"Syria\", \"in\", \"a\", \"Group\", \"C\", \"championship\", \"match\", \"on\", \"Friday\", \".\"], [\"But\", \"China\", \"saw\", \"their\", \"luck\", \"desert\", \"them\", \"in\", \"the\", \"second\"  …  \"crashing\", \"to\", \"a\", \"surprise\", \"2-0\", \"defeat\", \"to\", \"newcomers\", \"Uzbekistan\", \".\"], [\"China\", \"controlled\", \"most\", \"of\", \"the\", \"match\", \"and\", \"saw\", \"several\", \"chances\"  …  \"the\", \"advancing\", \"Chinese\", \"keeper\", \"and\", \"into\", \"an\", \"empty\", \"net\", \".\"], [\"Oleg\", \"Shatskiku\", \"made\", \"sure\", \"of\", \"the\", \"win\", \"in\", \"injury\", \"time\"  …  \"unstoppable\", \"left\", \"foot\", \"shot\", \"from\", \"just\", \"outside\", \"the\", \"area\", \".\"], [\"The\", \"former\", \"Soviet\", \"republic\", \"was\", \"playing\", \"in\", \"an\", \"Asian\", \"Cup\", \"finals\", \"tie\", \"for\", \"the\", \"first\", \"time\", \".\"], [\"Despite\", \"winning\", \"the\", \"Asian\", \"Games\", \"title\", \"two\", \"years\", \"ago\", \",\", \"Uzbekistan\", \"are\", \"in\", \"the\", \"finals\", \"as\", \"outsiders\", \".\"], [\"Two\", \"goals\", \"from\", \"defensive\", \"errors\", \"in\", \"the\", \"last\", \"six\", \"minutes\"  …  \"all\", \"three\", \"points\", \"from\", \"their\", \"opening\", \"meeting\", \"against\", \"Syria\", \".\"]  …  [\"DUBLIN\", \"1996-12-07\"], [\"Jack\", \"Charlton\", \"'s\", \"relationship\", \"with\", \"the\", \"people\", \"of\", \"Ireland\", \"was\"  …  \"the\", \"Englishman\", \"was\", \"officially\", \"declared\", \"one\", \"of\", \"their\", \"own\", \".\"], [\"Charlton\", \",\", \"61\", \",\", \"and\", \"his\", \"wife\", \",\", \"Peggy\", \",\"  …  \"of\", \"Charlton\", \"'s\", \"achievements\", \"as\", \"the\", \"national\", \"soccer\", \"manager\", \".\"], [\"\\\"\", \"The\", \"years\", \"I\", \"spent\", \"as\", \"manager\", \"of\", \"the\", \"Republic\", \"of\", \"Ireland\", \"were\", \"the\", \"best\", \"years\", \"of\", \"my\", \"life\", \".\"], [\"It\", \"all\", \"culminated\", \"in\", \"the\", \"fact\", \"that\", \"I\", \"now\", \"have\", \"lots\", \"of\", \"great\", \",\", \"great\", \"friends\", \"in\", \"Ireland\", \".\"], [\"That\", \"is\", \"why\", \"this\", \"is\", \"so\", \"emotional\", \"a\", \"night\", \"for\", \"me\", \",\", \"\\\"\", \"Charlton\", \"said\", \".\"], [\"\\\"\", \"It\", \"was\", \"the\", \"joy\", \"that\", \"we\", \"all\", \"had\", \"over\"  …  \",\", \"that\", \"I\", \"treasure\", \"most\", \",\", \"\\\"\", \"he\", \"added\", \".\"], [\"Charlton\", \"managed\", \"Ireland\", \"for\", \"93\", \"matches\", \",\", \"during\", \"which\", \"time\"  …  \"almost\", \"10\", \"years\", \"until\", \"he\", \"resigned\", \"in\", \"December\", \"1995\", \".\"], [\"He\", \"guided\", \"Ireland\", \"to\", \"two\", \"successive\", \"World\", \"Cup\", \"finals\", \"tournaments\"  …  \"a\", \"well-fancied\", \"England\", \"team\", \"1-0\", \"in\", \"their\", \"group\", \"qualifier\", \".\"], [\"The\", \"lanky\", \"former\", \"Leeds\", \"United\", \"defender\", \"did\", \"not\", \"make\", \"his\"  …  \"Cup\", \"winning\", \"team\", \"with\", \"his\", \"younger\", \"brother\", \",\", \"Bobby\", \".\"]], Array{String,1}[[\"NN\", \":\", \"NNP\", \"VB\", \"NNP\", \"NNP\", \",\", \"NNP\", \"IN\", \"DT\", \"NN\", \".\"], [\"NNP\", \"NNP\"], [\"NNP\", \",\", \"NNP\", \"NNP\", \"NNPS\", \"CD\"], [\"NNP\", \"VBD\", \"DT\", \"NN\", \"IN\", \"PRP\\$\", \"JJ\", \"NNP\", \"NN\", \"IN\"  …  \"NNP\", \"IN\", \"DT\", \"NNP\", \"NNP\", \"NN\", \"NN\", \"IN\", \"NNP\", \".\"], [\"CC\", \"NNP\", \"VBD\", \"PRP\\$\", \"NN\", \"VB\", \"PRP\", \"IN\", \"DT\", \"NN\"  …  \"VBG\", \"TO\", \"DT\", \"NN\", \"CD\", \"NN\", \"TO\", \"NNS\", \"NNP\", \".\"], [\"NNP\", \"VBD\", \"JJS\", \"IN\", \"DT\", \"NN\", \"CC\", \"VBD\", \"JJ\", \"NNS\"  …  \"DT\", \"VBG\", \"JJ\", \"NN\", \"CC\", \"IN\", \"DT\", \"JJ\", \"NN\", \".\"], [\"NNP\", \"NNP\", \"VBD\", \"JJ\", \"IN\", \"DT\", \"VBP\", \"IN\", \"NN\", \"NN\"  …  \"JJ\", \"VBD\", \"NN\", \"NN\", \"IN\", \"RB\", \"IN\", \"DT\", \"NN\", \".\"], [\"DT\", \"JJ\", \"JJ\", \"NN\", \"VBD\", \"VBG\", \"IN\", \"DT\", \"NNP\", \"NNP\", \"NNS\", \"NN\", \"IN\", \"DT\", \"JJ\", \"NN\", \".\"], [\"IN\", \"VBG\", \"DT\", \"JJ\", \"NNPS\", \"NN\", \"CD\", \"NNS\", \"RB\", \",\", \"NNP\", \"VBP\", \"IN\", \"DT\", \"NNS\", \"IN\", \"NNS\", \".\"], [\"CD\", \"NNS\", \"IN\", \"JJ\", \"NNS\", \"IN\", \"DT\", \"JJ\", \"CD\", \"NNS\"  …  \"DT\", \"CD\", \"NNS\", \"IN\", \"PRP\\$\", \"NN\", \"NN\", \"IN\", \"NNP\", \".\"]  …  [\"NNP\", \"CD\"], [\"NNP\", \"NNP\", \"POS\", \"NN\", \"IN\", \"DT\", \"NNS\", \"IN\", \"NNP\", \"VBD\"  …  \"DT\", \"NNP\", \"VBD\", \"RB\", \"VBD\", \"CD\", \"IN\", \"PRP\\$\", \"JJ\", \".\"], [\"JJ\", \",\", \"CD\", \",\", \"CC\", \"PRP\\$\", \"NN\", \",\", \"NNP\", \",\"  …  \"IN\", \"NNP\", \"POS\", \"NNS\", \"IN\", \"DT\", \"JJ\", \"NN\", \"NN\", \".\"], [\"\\\"\", \"DT\", \"NNS\", \"PRP\", \"VBD\", \"IN\", \"NN\", \"IN\", \"DT\", \"NNP\", \"IN\", \"NNP\", \"VBD\", \"DT\", \"JJS\", \"NNS\", \"IN\", \"PRP\\$\", \"NN\", \".\"], [\"PRP\", \"DT\", \"VBN\", \"IN\", \"DT\", \"NN\", \"IN\", \"PRP\", \"RB\", \"VBP\", \"NNS\", \"IN\", \"JJ\", \",\", \"JJ\", \"NNS\", \"IN\", \"NNP\", \".\"], [\"DT\", \"VBZ\", \"WRB\", \"DT\", \"VBZ\", \"RB\", \"JJ\", \"DT\", \"NN\", \"IN\", \"PRP\", \",\", \"\\\"\", \"NNP\", \"VBD\", \".\"], [\"\\\"\", \"PRP\", \"VBD\", \"DT\", \"NN\", \"IN\", \"PRP\", \"DT\", \"VBD\", \"IN\"  …  \",\", \"IN\", \"PRP\", \"NN\", \"JJS\", \",\", \"\\\"\", \"PRP\", \"VBD\", \".\"], [\"NNP\", \"VBD\", \"NNP\", \"IN\", \"CD\", \"NNS\", \",\", \"IN\", \"WDT\", \"NN\"  …  \"RB\", \"CD\", \"NNS\", \"IN\", \"PRP\", \"VBD\", \"IN\", \"NNP\", \"CD\", \".\"], [\"PRP\", \"VBD\", \"NNP\", \"TO\", \"CD\", \"JJ\", \"NNP\", \"NNP\", \"NNS\", \"NNS\"  …  \"DT\", \"JJ\", \"NNP\", \"NN\", \"CD\", \"IN\", \"PRP\\$\", \"NN\", \"NN\", \".\"], [\"DT\", \"JJ\", \"JJ\", \"NNP\", \"NNP\", \"NN\", \"VBD\", \"RB\", \"VB\", \"PRP\\$\"  …  \"NNP\", \"JJ\", \"NN\", \"IN\", \"PRP\\$\", \"JJR\", \"NN\", \",\", \"NNP\", \".\"]])"
      ]
     },
     "execution_count": 4,
     "metadata": {},
     "output_type": "execute_result"
    }
   ],
   "source": [
    "function obtain_X_Y(dataset)\n",
    "    X = [CorpusLoaders.word.(sent) for sent in dataset]\n",
    "    Y = [CorpusLoaders.part_of_speech.(sent) for sent in dataset]\n",
    "    return X, Y\n",
    "end\n",
    "\n",
    "X_train, Y_train = obtain_X_Y(train_dataset)\n",
    "X_dev, Y_dev = obtain_X_Y(dev_dataset)\n",
    "X_test, Y_test = obtain_X_Y(test_dataset)"
   ]
  },
  {
   "cell_type": "code",
   "execution_count": 5,
   "metadata": {
    "collapsed": true
   },
   "outputs": [
    {
     "data": {
      "text/plain": [
       "eval (generic function with 2 methods)"
      ]
     },
     "execution_count": 5,
     "metadata": {},
     "output_type": "execute_result"
    }
   ],
   "source": [
    "function eval(pos, X, Y)\n",
    "    num_correct = 0\n",
    "    num_total = 0\n",
    "    \n",
    "    for (x_seq, y_seq) in zip(X, Y)\n",
    "        preds = pos(x_seq)\n",
    "    \n",
    "        for i in eachindex(preds)\n",
    "            num_total += 1\n",
    "            if preds[i] == y_seq[i]\n",
    "                num_correct += 1\n",
    "            end\n",
    "        end\n",
    "    end\n",
    "\n",
    "    println(\"Accuracy: \", num_correct / num_total)\n",
    "end"
   ]
  },
  {
   "cell_type": "code",
   "execution_count": 6,
   "metadata": {},
   "outputs": [
    {
     "name": "stdout",
     "output_type": "stream",
     "text": [
      "Accuracy: 0.9187313685720039\n"
     ]
    }
   ],
   "source": [
    "eval(pos, X_train, Y_train)"
   ]
  },
  {
   "cell_type": "code",
   "execution_count": 7,
   "metadata": {},
   "outputs": [
    {
     "name": "stdout",
     "output_type": "stream",
     "text": [
      "Accuracy: 0.9115493944939839\n"
     ]
    }
   ],
   "source": [
    "eval(pos, X_dev, Y_dev)"
   ]
  },
  {
   "cell_type": "code",
   "execution_count": 8,
   "metadata": {},
   "outputs": [
    {
     "name": "stdout",
     "output_type": "stream",
     "text": [
      "Accuracy: 0.9039517605254657\n"
     ]
    }
   ],
   "source": [
    "eval(pos, X_test, Y_test)"
   ]
  },
  {
   "cell_type": "code",
   "execution_count": 9,
   "metadata": {
    "collapsed": true
   },
   "outputs": [
    {
     "name": "stdout",
     "output_type": "stream",
     "text": [
      "loaded successfully\n"
     ]
    },
    {
     "data": {
      "text/plain": [
       "PerceptronTagger(TextAnalysis.AveragePerceptron(Set(Any[\"JJS\", \"NNP_VBZ\", \"NN_NNS\", \"CC\", \"NNP_NNS\", \"EX\", \"NNP_TO\", \"VBD_DT\", \"LS\", (\"Council\", \"NNP\")  …  \"NNPS\", \"NNP_LS\", \"VB\", \"NNS_NN\", \"NNP_SYM\", \"VBZ\", \"VBZ_JJ\", \"UH\", \"SYM\", \"NNP_NN\", \"CD\"]), Dict{Any,Any}(\"i+2 word wetlands\"=>Dict{Any,Any}(\"NNS\"=>0.0,\"JJ\"=>0.0,\"NN\"=>0.0),\"i-1 tag+i word NNP basic\"=>Dict{Any,Any}(\"JJ\"=>0.0,\"IN\"=>0.0),\"i-1 tag+i word DT chloride\"=>Dict{Any,Any}(\"JJ\"=>0.0,\"NN\"=>0.0),\"i-1 tag+i word NN choo\"=>Dict{Any,Any}(\"NNP\"=>0.0,\"NN\"=>0.0),\"i+1 word antarctica\"=>Dict{Any,Any}(\"FW\"=>0.0,\"NN\"=>0.0),\"i-1 tag+i word -START- appendix\"=>Dict{Any,Any}(\"NNP\"=>0.0,\"NNPS\"=>0.0,\"NN\"=>0.0),\"i-1 word wahoo\"=>Dict{Any,Any}(\"JJ\"=>0.0,\"VBD\"=>0.0),\"i-1 tag+i word DT children's\"=>Dict{Any,Any}(\"NNS\"=>0.0,\"NN\"=>0.0),\"i word dnipropetrovsk\"=>Dict{Any,Any}(\"NNP\"=>0.003,\"NN\"=>-0.003),\"i suffix hla\"=>Dict{Any,Any}(\"JJ\"=>0.0,\"NN\"=>0.0)…), DataStructures.DefaultDict{Any,Any,Int64}(), DataStructures.DefaultDict{Any,Any,Int64}(), 1, [\"-START-\", \"-START2-\"]), Dict{Any,Any}(\"is\"=>\"VBZ\",\"at\"=>\"IN\",\"a\"=>\"DT\",\"and\"=>\"CC\",\"for\"=>\"IN\",\"by\"=>\"IN\",\"Retrieved\"=>\"VBN\",\"was\"=>\"VBD\",\"He\"=>\"PRP\",\"in\"=>\"IN\"…), Set(Any[\"JJS\", \"NNP_VBZ\", \"NN_NNS\", \"CC\", \"NNP_NNS\", \"EX\", \"NNP_TO\", \"VBD_DT\", \"LS\", (\"Council\", \"NNP\")  …  \"NNPS\", \"NNP_LS\", \"VB\", \"NNS_NN\", \"NNP_SYM\", \"VBZ\", \"VBZ_JJ\", \"UH\", \"SYM\", \"NNP_NN\", \"CD\"]), [\"-START-\", \"-START2-\"], [\"-END-\", \"-END2-\"], Any[])"
      ]
     },
     "execution_count": 9,
     "metadata": {},
     "output_type": "execute_result"
    }
   ],
   "source": [
    "tagger = PerceptronTagger(true)"
   ]
  },
  {
   "cell_type": "code",
   "execution_count": 55,
   "metadata": {},
   "outputs": [
    {
     "data": {
      "text/plain": [
       "eval_ (generic function with 2 methods)"
      ]
     },
     "execution_count": 55,
     "metadata": {},
     "output_type": "execute_result"
    }
   ],
   "source": [
    "function eval_(tagger, X, Y)\n",
    "    num_correct = 0\n",
    "    num_total = 0\n",
    "\n",
    "    for (x_seq, y_seq) in zip(X, Y)\n",
    "        preds = predict(tagger, x_seq)\n",
    "        for i in eachindex(preds)\n",
    "            (w, y) = preds[i]\n",
    "            typeof(y) == Missing && continue\n",
    "            num_total += 1\n",
    "            if y == y_seq[i]\n",
    "                num_correct += 1\n",
    "            end\n",
    "        end\n",
    "    end\n",
    "\n",
    "    println(\"Accuracy: \", num_correct / num_total)\n",
    "end"
   ]
  },
  {
   "cell_type": "code",
   "execution_count": 56,
   "metadata": {},
   "outputs": [
    {
     "name": "stdout",
     "output_type": "stream",
     "text": [
      "Accuracy: 0.45400094798983065\n"
     ]
    }
   ],
   "source": [
    "eval_(tagger, X_test, Y_test)"
   ]
  },
  {
   "cell_type": "code",
   "execution_count": 57,
   "metadata": {},
   "outputs": [
    {
     "name": "stdout",
     "output_type": "stream",
     "text": [
      "Accuracy: 0.46666568407813547\n"
     ]
    }
   ],
   "source": [
    "eval_(tagger, X_train, Y_train)"
   ]
  },
  {
   "cell_type": "code",
   "execution_count": 58,
   "metadata": {},
   "outputs": [
    {
     "name": "stdout",
     "output_type": "stream",
     "text": [
      "Accuracy: 0.4735857877512856\n"
     ]
    }
   ],
   "source": [
    "eval_(tagger, X_dev, Y_dev)"
   ]
  },
  {
   "cell_type": "code",
   "execution_count": null,
   "metadata": {},
   "outputs": [],
   "source": []
  }
 ],
 "metadata": {
  "kernelspec": {
   "display_name": "Julia 1.0.3",
   "language": "julia",
   "name": "julia-1.0"
  },
  "language_info": {
   "file_extension": ".jl",
   "mimetype": "application/julia",
   "name": "julia",
   "version": "1.0.3"
  }
 },
 "nbformat": 4,
 "nbformat_minor": 2
}
