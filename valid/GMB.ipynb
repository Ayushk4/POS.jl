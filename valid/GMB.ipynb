{
 "cells": [
  {
   "cell_type": "code",
   "execution_count": 2,
   "metadata": {},
   "outputs": [
    {
     "name": "stderr",
     "output_type": "stream",
     "text": [
      "┌ Info: Precompiling CorpusLoaders [8f4694b6-a17a-549f-a57e-76e1fca3f017]\n",
      "└ @ Base loading.jl:1192\n",
      "┌ Warning: Package CorpusLoaders does not have CSV in its dependencies:\n",
      "│ - If you have CorpusLoaders checked out for development and have\n",
      "│   added CSV as a dependency but haven't updated your primary\n",
      "│   environment's manifest file, try `Pkg.resolve()`.\n",
      "│ - Otherwise you may need to report an issue with CorpusLoaders\n",
      "└ Loading CSV into CorpusLoaders from project dependency, future warnings for CorpusLoaders are suppressed.\n"
     ]
    }
   ],
   "source": [
    "using TextAnalysis, CorpusLoaders, MultiResolutionIterators"
   ]
  },
  {
   "cell_type": "code",
   "execution_count": 3,
   "metadata": {},
   "outputs": [
    {
     "data": {
      "text/plain": [
       "9418-element Array{Array{CorpusLoaders.GMBWord,1},1}:\n",
       " [GMBWord(\"O\", \"JJ\", \"Suspected\"), GMBWord(\"O\", \"JJ\", \"Islamist\"), GMBWord(\"O\", \"NNS\", \"rebels\"), GMBWord(\"O\", \"VBP\", \"have\"), GMBWord(\"O\", \"VBN\", \"fired\"), GMBWord(\"O\", \"NN\", \"mortar\"), GMBWord(\"O\", \"NNS\", \"shells\"), GMBWord(\"O\", \"IN\", \"at\"), GMBWord(\"O\", \"DT\", \"the\"), GMBWord(\"O\", \"NN\", \"palace\"), GMBWord(\"O\", \"VBN\", \"used\"), GMBWord(\"O\", \"IN\", \"by\"), GMBWord(\"Location\", \"NNP\", \"Somalia\"), GMBWord(\"O\", \"POS\", \"'s\"), GMBWord(\"O\", \"JJ\", \"interim\"), GMBWord(\"O\", \"NNP\", \"President\"), GMBWord(\"Person\", \"NNP\", \"Abdullahi\"), GMBWord(\"Person\", \"NNP\", \"Yusuf\"), GMBWord(\"Person\", \"NNP\", \"Ahmad\"), GMBWord(\"O\", \".\", \".\")]                    \n",
       " [GMBWord(\"O\", \"PRP\", \"It\"), GMBWord(\"O\", \"VBD\", \"was\"), GMBWord(\"O\", \"RB\", \"not\"), GMBWord(\"O\", \"RB\", \"immediately\"), GMBWord(\"O\", \"JJ\", \"clear\"), GMBWord(\"O\", \"IN\", \"if\"), GMBWord(\"O\", \"DT\", \"the\"), GMBWord(\"O\", \"NN\", \"president\"), GMBWord(\"O\", \"VBD\", \"was\"), GMBWord(\"O\", \"IN\", \"in\")  …  GMBWord(\"O\", \"WRB\", \"when\"), GMBWord(\"O\", \"DT\", \"the\"), GMBWord(\"O\", \"NN\", \"attack\"), GMBWord(\"O\", \"VBD\", \"occurred\"), GMBWord(\"O\", \"CC\", \"or\"), GMBWord(\"O\", \"IN\", \"if\"), GMBWord(\"O\", \"DT\", \"anyone\"), GMBWord(\"O\", \"VBD\", \"was\"), GMBWord(\"O\", \"VBN\", \"hurt\"), GMBWord(\"O\", \".\", \".\")]                                                                   \n",
       " [GMBWord(\"O\", \"JJ\", \"Local\"), GMBWord(\"O\", \"NN\", \"news\"), GMBWord(\"O\", \"NNS\", \"reports\"), GMBWord(\"O\", \"VBD\", \"said\"), GMBWord(\"O\", \"IN\", \"at\"), GMBWord(\"O\", \"JJS\", \"least\"), GMBWord(\"O\", \"CD\", \"five\"), GMBWord(\"O\", \"NN\", \"mortar\"), GMBWord(\"O\", \"NNS\", \"shells\"), GMBWord(\"O\", \"VBD\", \"hit\")  …  GMBWord(\"O\", \"CC\", \"and\"), GMBWord(\"O\", \"JJ\", \"other\"), GMBWord(\"O\", \"NNS\", \"mortars\"), GMBWord(\"O\", \"VBD\", \"were\"), GMBWord(\"O\", \"VBN\", \"fired\"), GMBWord(\"O\", \"RB\", \"elsewhere\"), GMBWord(\"O\", \"IN\", \"in\"), GMBWord(\"Location\", \"NNP\", \"Mogadishu\"), GMBWord(\"Timex\", \"NNP\", \"Wednesday\"), GMBWord(\"O\", \".\", \".\")]                                   \n",
       " [GMBWord(\"O\", \"DT\", \"The\"), GMBWord(\"O\", \"NNS\", \"attacks\"), GMBWord(\"O\", \"VBD\", \"occurred\"), GMBWord(\"O\", \"IN\", \"after\"), GMBWord(\"O\", \"DT\", \"the\"), GMBWord(\"O\", \"NN\", \"government\"), GMBWord(\"O\", \"VBD\", \"said\"), GMBWord(\"O\", \"PRP\", \"it\"), GMBWord(\"O\", \"MD\", \"will\"), GMBWord(\"O\", \"VB\", \"go\")  …  GMBWord(\"O\", \"CD\", \"1,300\"), GMBWord(\"O\", \"JJ\", \"Somali\"), GMBWord(\"O\", \"NNS\", \"elders\"), GMBWord(\"O\", \",\", \",\"), GMBWord(\"O\", \"NNS\", \"warlords\"), GMBWord(\"O\", \"CC\", \"and\"), GMBWord(\"O\", \"NNS\", \"politicians\"), GMBWord(\"O\", \"VBP\", \"are\"), GMBWord(\"O\", \"VBN\", \"invited\"), GMBWord(\"O\", \".\", \".\")]                                                 \n",
       " [GMBWord(\"O\", \"JJ\", \"Pakistani\"), GMBWord(\"O\", \"NNS\", \"officials\"), GMBWord(\"O\", \"VBP\", \"say\"), GMBWord(\"O\", \"JJ\", \"unidentified\"), GMBWord(\"O\", \"NNS\", \"gunmen\"), GMBWord(\"O\", \"VBP\", \"have\"), GMBWord(\"O\", \"VBN\", \"killed\"), GMBWord(\"O\", \"CD\", \"three\"), GMBWord(\"O\", \"NNS\", \"people\"), GMBWord(\"O\", \",\", \",\")  …  GMBWord(\"O\", \"NN\", \"minister\"), GMBWord(\"O\", \",\", \",\"), GMBWord(\"O\", \"IN\", \"in\"), GMBWord(\"O\", \"DT\", \"a\"), GMBWord(\"O\", \"JJ\", \"semi-autonomous\"), GMBWord(\"O\", \"JJ\", \"tribal\"), GMBWord(\"O\", \"NN\", \"region\"), GMBWord(\"O\", \"VBG\", \"bordering\"), GMBWord(\"O\", \"NNP\", \"Afghanistan\"), GMBWord(\"O\", \".\", \".\")]                             \n",
       " [GMBWord(\"O\", \"DT\", \"The\"), GMBWord(\"O\", \"NNS\", \"officials\"), GMBWord(\"O\", \"VBP\", \"say\"), GMBWord(\"O\", \"JJ\", \"prominent\"), GMBWord(\"O\", \"JJ\", \"tribal\"), GMBWord(\"O\", \"NN\", \"leader\"), GMBWord(\"Person\", \"NNP\", \"Malik\"), GMBWord(\"Person\", \"NNP\", \"Faridullah\"), GMBWord(\"Person\", \"NNP\", \"Khan\"), GMBWord(\"O\", \"VBD\", \"was\")  …  GMBWord(\"O\", \"PRP\\$\", \"his\"), GMBWord(\"O\", \"NN\", \"vehicle\"), GMBWord(\"O\", \"VBD\", \"was\"), GMBWord(\"O\", \"VBN\", \"ambushed\"), GMBWord(\"O\", \"IN\", \"in\"), GMBWord(\"O\", \"DT\", \"the\"), GMBWord(\"Location\", \"NNP\", \"Kani\"), GMBWord(\"Location\", \"NNP\", \"Wam\"), GMBWord(\"O\", \"NN\", \"area\"), GMBWord(\"O\", \".\", \".\")]                  \n",
       " [GMBWord(\"O\", \"PRP\\$\", \"His\"), GMBWord(\"O\", \"NN\", \"driver\"), GMBWord(\"O\", \"CC\", \"and\"), GMBWord(\"O\", \"DT\", \"a\"), GMBWord(\"O\", \"JJ\", \"tribal\"), GMBWord(\"O\", \"NN\", \"elder\"), GMBWord(\"O\", \"VBD\", \"were\"), GMBWord(\"O\", \"RB\", \"also\"), GMBWord(\"O\", \"VBN\", \"killed\"), GMBWord(\"O\", \".\", \".\")]                                                                                                                                                                                                                                                                                                                                                                   \n",
       " [GMBWord(\"O\", \"DT\", \"No\"), GMBWord(\"O\", \"NN\", \"one\"), GMBWord(\"O\", \"VBZ\", \"has\"), GMBWord(\"O\", \"VBN\", \"claimed\"), GMBWord(\"O\", \"NN\", \"responsibility\"), GMBWord(\"O\", \"IN\", \"for\"), GMBWord(\"O\", \"DT\", \"the\"), GMBWord(\"O\", \"NNS\", \"killings\"), GMBWord(\"O\", \".\", \".\")]                                                                                                                                                                                                                                                                                                                                                                                        \n",
       " [GMBWord(\"O\", \"DT\", \"The\"), GMBWord(\"O\", \"NN\", \"ambush\"), GMBWord(\"O\", \"VBD\", \"came\"), GMBWord(\"O\", \"DT\", \"a\"), GMBWord(\"O\", \"NN\", \"day\"), GMBWord(\"O\", \"IN\", \"after\"), GMBWord(\"O\", \"DT\", \"a\"), GMBWord(\"O\", \"NN\", \"commander\"), GMBWord(\"O\", \"IN\", \"of\"), GMBWord(\"O\", \"JJ\", \"Pakistani\")  …  GMBWord(\"O\", \"NN\", \"army\"), GMBWord(\"O\", \"VBZ\", \"has\"), GMBWord(\"O\", \"RB\", \"almost\"), GMBWord(\"O\", \"RB\", \"completely\"), GMBWord(\"O\", \"VBN\", \"eliminated\"), GMBWord(\"O\", \"NNS\", \"militants\"), GMBWord(\"O\", \"IN\", \"in\"), GMBWord(\"Location\", \"NNP\", \"South\"), GMBWord(\"Location\", \"NNP\", \"Waziristan\"), GMBWord(\"O\", \".\", \".\")]                                 \n",
       " [GMBWord(\"O\", \"DT\", \"The\"), GMBWord(\"O\", \"NN\", \"area\"), GMBWord(\"O\", \"VBD\", \"became\"), GMBWord(\"O\", \"DT\", \"a\"), GMBWord(\"O\", \"NN\", \"refuge\"), GMBWord(\"O\", \"IN\", \"for\"), GMBWord(\"O\", \"JJ\", \"many\"), GMBWord(\"Location\", \"NNP\", \"al-Qaida\"), GMBWord(\"O\", \"CC\", \"and\"), GMBWord(\"Location\", \"NNP\", \"Taleban\")  …  GMBWord(\"O\", \"DT\", \"the\"), GMBWord(\"Location\", \"NNP\", \"Taleban\"), GMBWord(\"O\", \"NN\", \"government\"), GMBWord(\"O\", \"VBD\", \"was\"), GMBWord(\"O\", \"VBN\", \"ousted\"), GMBWord(\"O\", \"IN\", \"in\"), GMBWord(\"Location\", \"NNP\", \"Afghanistan\"), GMBWord(\"O\", \"IN\", \"in\"), GMBWord(\"Timex\", \"CD\", \"2001\"), GMBWord(\"O\", \".\", \".\")]                       \n",
       " [GMBWord(\"Organization\", \"NNP\", \"U.S.\"), GMBWord(\"Organization\", \"NNP\", \"Army\"), GMBWord(\"O\", \"NNS\", \"officials\"), GMBWord(\"O\", \"VBD\", \"said\"), GMBWord(\"Timex\", \"NNP\", \"Wednesday\"), GMBWord(\"O\", \"IN\", \"that\"), GMBWord(\"O\", \"PRP\", \"they\"), GMBWord(\"O\", \"MD\", \"will\"), GMBWord(\"O\", \"RB\", \"not\"), GMBWord(\"O\", \"VB\", \"renew\")  …  GMBWord(\"O\", \"JJ\", \"logistical\"), GMBWord(\"O\", \"NN\", \"support\"), GMBWord(\"O\", \"TO\", \"to\"), GMBWord(\"Location\", \"NNP\", \"U.S.\"), GMBWord(\"O\", \"NNS\", \"troops\"), GMBWord(\"O\", \"IN\", \"in\"), GMBWord(\"Location\", \"NNP\", \"Iraq\"), GMBWord(\"O\", \"CC\", \"and\"), GMBWord(\"O\", \"RB\", \"elsewhere\"), GMBWord(\"O\", \".\", \".\")]         \n",
       " [GMBWord(\"Location\", \"NNP\", \"Halliburton\"), GMBWord(\"O\", \"VBZ\", \"has\"), GMBWord(\"O\", \"VBN\", \"been\"), GMBWord(\"O\", \"VBG\", \"providing\"), GMBWord(\"O\", \"DT\", \"a\"), GMBWord(\"O\", \"JJ\", \"long\"), GMBWord(\"O\", \"NN\", \"list\"), GMBWord(\"O\", \"IN\", \"of\"), GMBWord(\"O\", \"NNS\", \"services\"), GMBWord(\"O\", \",\", \",\")  …  GMBWord(\"O\", \"TO\", \"to\"), GMBWord(\"O\", \"NN\", \"communication\"), GMBWord(\"O\", \",\", \",\"), GMBWord(\"O\", \"IN\", \"for\"), GMBWord(\"O\", \"DT\", \"the\"), GMBWord(\"O\", \"NN\", \"military\"), GMBWord(\"O\", \"IN\", \"for\"), GMBWord(\"Timex\", \"JJ\", \"several\"), GMBWord(\"Timex\", \"NNS\", \"years\"), GMBWord(\"O\", \".\", \".\")]                                            \n",
       " [GMBWord(\"O\", \"NNS\", \"Critics\"), GMBWord(\"O\", \"IN\", \"of\"), GMBWord(\"Location\", \"NNP\", \"Halliburton\"), GMBWord(\"O\", \"VBP\", \"include\"), GMBWord(\"O\", \"NNS\", \"auditors\"), GMBWord(\"O\", \"CC\", \"and\"), GMBWord(\"O\", \"JJ\", \"congressional\"), GMBWord(\"O\", \"NNS\", \"Democrats\"), GMBWord(\"O\", \".\", \".\")]                                                                                                                                                                                                                                                                                                                                                              \n",
       " ⋮                                                                                                                                                                                                                                                                                                                                                                                                                                                                                                                                                                                                                                                             \n",
       " [GMBWord(\"Person\", \"NNP\", \"Jeff\"), GMBWord(\"Person\", \"NNP\", \"Swicord\"), GMBWord(\"O\", \"VBZ\", \"reports\"), GMBWord(\"O\", \"IN\", \"on\"), GMBWord(\"O\", \"CD\", \"one\"), GMBWord(\"O\", \"NN\", \"family\"), GMBWord(\"O\", \"IN\", \"in\"), GMBWord(\"O\", \"DT\", \"the\"), GMBWord(\"O\", \"JJ\", \"outer\"), GMBWord(\"O\", \"NNS\", \"suburbs\")  …  GMBWord(\"Location\", \"NNP\", \"Washington\"), GMBWord(\"Location\", \"NNP\", \"D.C.\"), GMBWord(\"O\", \"WDT\", \"that\"), GMBWord(\"O\", \"VBZ\", \"is\"), GMBWord(\"O\", \"VBG\", \"rethinking\"), GMBWord(\"O\", \"DT\", \"the\"), GMBWord(\"O\", \"NNS\", \"choices\"), GMBWord(\"O\", \"PRP\", \"they\"), GMBWord(\"O\", \"VBD\", \"made\"), GMBWord(\"O\", \".\", \".\")]                         \n",
       " [GMBWord(\"Location\", \"NNP\", \"Lebanon\"), GMBWord(\"O\", \"POS\", \"'s\"), GMBWord(\"O\", \"NN\", \"parliament\"), GMBWord(\"O\", \"VBZ\", \"has\"), GMBWord(\"O\", \"RB\", \"again\"), GMBWord(\"O\", \"VBN\", \"delayed\"), GMBWord(\"O\", \"VBG\", \"holding\"), GMBWord(\"O\", \"DT\", \"a\"), GMBWord(\"O\", \"NN\", \"session\"), GMBWord(\"O\", \"TO\", \"to\")  …  GMBWord(\"O\", \"NN\", \"president\"), GMBWord(\"O\", \",\", \",\"), GMBWord(\"O\", \"VBG\", \"postponing\"), GMBWord(\"O\", \"DT\", \"the\"), GMBWord(\"O\", \"NN\", \"vote\"), GMBWord(\"O\", \"IN\", \"for\"), GMBWord(\"Timex\", \"DT\", \"the\"), GMBWord(\"Timex\", \"JJ\", \"13th\"), GMBWord(\"Timex\", \"NN\", \"time\"), GMBWord(\"O\", \".\", \".\")]                                       \n",
       " [GMBWord(\"O\", \"NNP\", \"Speaker\"), GMBWord(\"Person\", \"NNP\", \"Nabih\"), GMBWord(\"Person\", \"NNP\", \"Berri\"), GMBWord(\"O\", \"VBD\", \"announced\"), GMBWord(\"Timex\", \"NNP\", \"Sunday\"), GMBWord(\"O\", \"DT\", \"the\"), GMBWord(\"O\", \"NN\", \"poll\"), GMBWord(\"O\", \",\", \",\"), GMBWord(\"O\", \"RB\", \"originally\"), GMBWord(\"O\", \"VBN\", \"scheduled\"), GMBWord(\"O\", \"IN\", \"for\"), GMBWord(\"Timex\", \"NNP\", \"Monday\"), GMBWord(\"O\", \",\", \",\"), GMBWord(\"O\", \"RB\", \"now\"), GMBWord(\"O\", \"MD\", \"will\"), GMBWord(\"O\", \"VB\", \"be\"), GMBWord(\"O\", \"VBN\", \"held\"), GMBWord(\"Timex\", \"NNP\", \"February\"), GMBWord(\"Timex\", \"CD\", \"11\"), GMBWord(\"O\", \".\", \".\")]                                 \n",
       " [GMBWord(\"Organization\", \"NNP\", \"Parliament\"), GMBWord(\"O\", \"POS\", \"'s\"), GMBWord(\"O\", \"NN\", \"ruling\"), GMBWord(\"O\", \"JJ\", \"pro-Western\"), GMBWord(\"O\", \"NN\", \"majority\"), GMBWord(\"O\", \"CC\", \"and\"), GMBWord(\"O\", \"JJ\", \"pro-Syrian\"), GMBWord(\"O\", \"NN\", \"opposition\"), GMBWord(\"O\", \"NNS\", \"factions\"), GMBWord(\"O\", \"VBP\", \"have\")  …  GMBWord(\"O\", \"NN\", \"plan\"), GMBWord(\"O\", \"TO\", \"to\"), GMBWord(\"O\", \"VB\", \"install\"), GMBWord(\"O\", \"NN\", \"army\"), GMBWord(\"O\", \"NN\", \"chief\"), GMBWord(\"Person\", \"NNP\", \"Michel\"), GMBWord(\"Person\", \"NNP\", \"Suleiman\"), GMBWord(\"O\", \"IN\", \"as\"), GMBWord(\"O\", \"NN\", \"president\"), GMBWord(\"O\", \".\", \".\")]         \n",
       " [GMBWord(\"O\", \"CC\", \"But\"), GMBWord(\"O\", \"DT\", \"the\"), GMBWord(\"O\", \"NNS\", \"factions\"), GMBWord(\"O\", \"VBP\", \"remain\"), GMBWord(\"O\", \"VBN\", \"divided\"), GMBWord(\"O\", \"IN\", \"over\"), GMBWord(\"O\", \"DT\", \"a\"), GMBWord(\"O\", \"JJ\", \"power-sharing\"), GMBWord(\"O\", \"NN\", \"deal\"), GMBWord(\"O\", \"IN\", \"in\"), GMBWord(\"O\", \"DT\", \"the\"), GMBWord(\"O\", \"JJ\", \"new\"), GMBWord(\"O\", \"NN\", \"government\"), GMBWord(\"O\", \".\", \".\")]                                                                                                                                                                                                                                        \n",
       " [GMBWord(\"Location\", \"NNP\", \"Tonga\"), GMBWord(\"O\", \":\", \"-\"), GMBWord(\"O\", \"JJ\", \"unique\"), GMBWord(\"O\", \"IN\", \"among\"), GMBWord(\"O\", \"NNP\", \"Pacific\"), GMBWord(\"O\", \"NNS\", \"nations\"), GMBWord(\"O\", \"IN\", \"-\"), GMBWord(\"O\", \"RB\", \"never\"), GMBWord(\"O\", \"RB\", \"completely\"), GMBWord(\"O\", \"VBD\", \"lost\"), GMBWord(\"O\", \"PRP\\$\", \"its\"), GMBWord(\"O\", \"JJ\", \"indigenous\"), GMBWord(\"O\", \"NN\", \"governance\"), GMBWord(\"O\", \".\", \".\")]                                                                                                                                                                                                                       \n",
       " [GMBWord(\"O\", \"DT\", \"The\"), GMBWord(\"O\", \"NNS\", \"archipelagos\"), GMBWord(\"O\", \"IN\", \"of\"), GMBWord(\"O\", \"LQU\", \"\\\"\"), GMBWord(\"O\", \"DT\", \"The\"), GMBWord(\"O\", \"NNP\", \"Friendly\"), GMBWord(\"O\", \"NNP\", \"Islands\"), GMBWord(\"O\", \"LQU\", \"\\\"\"), GMBWord(\"O\", \"VBD\", \"were\"), GMBWord(\"O\", \"VBN\", \"united\"), GMBWord(\"O\", \"IN\", \"into\"), GMBWord(\"O\", \"DT\", \"a\"), GMBWord(\"O\", \"JJ\", \"Polynesian\"), GMBWord(\"O\", \"NN\", \"kingdom\"), GMBWord(\"O\", \"IN\", \"in\"), GMBWord(\"Timex\", \"CD\", \"1845\"), GMBWord(\"O\", \".\", \".\")]                                                                                                                                              \n",
       " [GMBWord(\"Location\", \"NNP\", \"Tonga\"), GMBWord(\"O\", \"VBD\", \"became\"), GMBWord(\"O\", \"DT\", \"a\"), GMBWord(\"O\", \"JJ\", \"constitutional\"), GMBWord(\"O\", \"NN\", \"monarchy\"), GMBWord(\"O\", \"IN\", \"in\"), GMBWord(\"Timex\", \"CD\", \"1875\"), GMBWord(\"O\", \"CC\", \"and\"), GMBWord(\"O\", \"DT\", \"a\"), GMBWord(\"O\", \"JJ\", \"British\")  …  GMBWord(\"O\", \"NN\", \"protectorate\"), GMBWord(\"O\", \"CC\", \"and\"), GMBWord(\"O\", \"VBD\", \"joined\"), GMBWord(\"O\", \"DT\", \"the\"), GMBWord(\"Organization\", \"NNP\", \"Commonwealth\"), GMBWord(\"Organization\", \"IN\", \"of\"), GMBWord(\"Organization\", \"NNP\", \"Nations\"), GMBWord(\"O\", \"IN\", \"in\"), GMBWord(\"Timex\", \"CD\", \"1970\"), GMBWord(\"O\", \".\", \".\")]\n",
       " [GMBWord(\"Location\", \"NNP\", \"Tonga\"), GMBWord(\"O\", \"VBZ\", \"remains\"), GMBWord(\"O\", \"DT\", \"the\"), GMBWord(\"O\", \"JJ\", \"only\"), GMBWord(\"O\", \"NN\", \"monarchy\"), GMBWord(\"O\", \"IN\", \"in\"), GMBWord(\"O\", \"DT\", \"the\"), GMBWord(\"Location\", \"NNP\", \"Pacific\"), GMBWord(\"O\", \".\", \".\")]                                                                                                                                                                                                                                                                                                                                                                              \n",
       " [GMBWord(\"O\", \"NNP\", \"SOME\"), GMBWord(\"O\", \"NNP\", \"BOYS\"), GMBWord(\"O\", \",\", \",\"), GMBWord(\"O\", \"VBG\", \"playing\"), GMBWord(\"O\", \"IN\", \"near\"), GMBWord(\"O\", \"DT\", \"a\"), GMBWord(\"O\", \"NN\", \"pond\"), GMBWord(\"O\", \",\", \",\"), GMBWord(\"O\", \"VBD\", \"saw\"), GMBWord(\"O\", \"DT\", \"a\")  …  GMBWord(\"O\", \"DT\", \"the\"), GMBWord(\"O\", \"NN\", \"water\"), GMBWord(\"O\", \"CC\", \"and\"), GMBWord(\"O\", \"VBD\", \"began\"), GMBWord(\"O\", \"TO\", \"to\"), GMBWord(\"O\", \"VB\", \"pelt\"), GMBWord(\"O\", \"PRP\", \"them\"), GMBWord(\"O\", \"IN\", \"with\"), GMBWord(\"O\", \"NNS\", \"stones\"), GMBWord(\"O\", \".\", \".\")]                                                                                    \n",
       " [GMBWord(\"O\", \"PRP\", \"They\"), GMBWord(\"O\", \"VBD\", \"killed\"), GMBWord(\"O\", \"NN\", \"several\"), GMBWord(\"O\", \"IN\", \"of\"), GMBWord(\"O\", \"PRP\", \"them\"), GMBWord(\"O\", \",\", \",\"), GMBWord(\"O\", \"WRB\", \"when\"), GMBWord(\"O\", \"CD\", \"one\"), GMBWord(\"O\", \"IN\", \"of\"), GMBWord(\"O\", \"DT\", \"the\")  …  GMBWord(\"O\", \"NN\", \"sport\"), GMBWord(\"O\", \"TO\", \"to\"), GMBWord(\"O\", \"PRP\", \"you\"), GMBWord(\"O\", \",\", \",\"), GMBWord(\"O\", \"VBZ\", \"is\"), GMBWord(\"O\", \"NN\", \"death\"), GMBWord(\"O\", \"TO\", \"to\"), GMBWord(\"O\", \"PRP\", \"us\"), GMBWord(\"O\", \".\", \".\"), GMBWord(\"O\", \"LQU\", \"\\\"\")]                                                                                         \n",
       " [GMBWord(\"O\", \":\", \"-\"), GMBWord(\"O\", \"RQU\", \"\\\"\"), GMBWord(\"O\", \"CD\", \"One\"), GMBWord(\"O\", \"NN\", \"man\"), GMBWord(\"O\", \"POS\", \"'s\"), GMBWord(\"O\", \"NN\", \"pleasure\"), GMBWord(\"O\", \"MD\", \"may\"), GMBWord(\"O\", \"VB\", \"be\"), GMBWord(\"O\", \"DT\", \"another\"), GMBWord(\"O\", \"POS\", \"'s\"), GMBWord(\"O\", \"NN\", \"pain\"), GMBWord(\"O\", \".\", \".\"), GMBWord(\"O\", \"LQU\", \"\\\"\"), GMBWord(\"O\", \":\", \"-\")]                                                                                                                                                                                                                                                                    "
      ]
     },
     "execution_count": 3,
     "metadata": {},
     "output_type": "execute_result"
    }
   ],
   "source": [
    "dataset = flatten_levels(collect(CorpusLoaders.load(GMB())) , lvls(GMB, :document)) |> full_consolidate"
   ]
  },
  {
   "cell_type": "code",
   "execution_count": 4,
   "metadata": {},
   "outputs": [
    {
     "data": {
      "text/plain": [
       "eval (generic function with 2 methods)"
      ]
     },
     "execution_count": 4,
     "metadata": {},
     "output_type": "execute_result"
    }
   ],
   "source": [
    "function eval(pos, X, Y)\n",
    "    num_correct = 0\n",
    "    num_total = 0\n",
    "    \n",
    "    for (x_seq, y_seq) in zip(X, Y)\n",
    "        preds = pos(x_seq)\n",
    "    \n",
    "        for i in eachindex(preds)\n",
    "            num_total += 1\n",
    "            if preds[i] == y_seq[i]\n",
    "                num_correct += 1\n",
    "            end\n",
    "        end\n",
    "    end\n",
    "\n",
    "    println(\"Accuracy: \", num_correct / num_total)\n",
    "end"
   ]
  },
  {
   "cell_type": "code",
   "execution_count": 5,
   "metadata": {},
   "outputs": [
    {
     "data": {
      "text/plain": [
       "9418-element Array{Array{String,1},1}:\n",
       " [\"JJ\", \"JJ\", \"NNS\", \"VBP\", \"VBN\", \"NN\", \"NNS\", \"IN\", \"DT\", \"NN\", \"VBN\", \"IN\", \"NNP\", \"POS\", \"JJ\", \"NNP\", \"NNP\", \"NNP\", \"NNP\", \".\"]     \n",
       " [\"PRP\", \"VBD\", \"RB\", \"RB\", \"JJ\", \"IN\", \"DT\", \"NN\", \"VBD\", \"IN\"  …  \"WRB\", \"DT\", \"NN\", \"VBD\", \"CC\", \"IN\", \"DT\", \"VBD\", \"VBN\", \".\"]      \n",
       " [\"JJ\", \"NN\", \"NNS\", \"VBD\", \"IN\", \"JJS\", \"CD\", \"NN\", \"NNS\", \"VBD\"  …  \"CC\", \"JJ\", \"NNS\", \"VBD\", \"VBN\", \"RB\", \"IN\", \"NNP\", \"NNP\", \".\"]   \n",
       " [\"DT\", \"NNS\", \"VBD\", \"IN\", \"DT\", \"NN\", \"VBD\", \"PRP\", \"MD\", \"VB\"  …  \"CD\", \"JJ\", \"NNS\", \",\", \"NNS\", \"CC\", \"NNS\", \"VBP\", \"VBN\", \".\"]     \n",
       " [\"JJ\", \"NNS\", \"VBP\", \"JJ\", \"NNS\", \"VBP\", \"VBN\", \"CD\", \"NNS\", \",\"  …  \"NN\", \",\", \"IN\", \"DT\", \"JJ\", \"JJ\", \"NN\", \"VBG\", \"NNP\", \".\"]       \n",
       " [\"DT\", \"NNS\", \"VBP\", \"JJ\", \"JJ\", \"NN\", \"NNP\", \"NNP\", \"NNP\", \"VBD\"  …  \"PRP\\$\", \"NN\", \"VBD\", \"VBN\", \"IN\", \"DT\", \"NNP\", \"NNP\", \"NN\", \".\"]\n",
       " [\"PRP\\$\", \"NN\", \"CC\", \"DT\", \"JJ\", \"NN\", \"VBD\", \"RB\", \"VBN\", \".\"]                                                                       \n",
       " [\"DT\", \"NN\", \"VBZ\", \"VBN\", \"NN\", \"IN\", \"DT\", \"NNS\", \".\"]                                                                               \n",
       " [\"DT\", \"NN\", \"VBD\", \"DT\", \"NN\", \"IN\", \"DT\", \"NN\", \"IN\", \"JJ\"  …  \"NN\", \"VBZ\", \"RB\", \"RB\", \"VBN\", \"NNS\", \"IN\", \"NNP\", \"NNP\", \".\"]       \n",
       " [\"DT\", \"NN\", \"VBD\", \"DT\", \"NN\", \"IN\", \"JJ\", \"NNP\", \"CC\", \"NNP\"  …  \"DT\", \"NNP\", \"NN\", \"VBD\", \"VBN\", \"IN\", \"NNP\", \"IN\", \"CD\", \".\"]      \n",
       " [\"NNP\", \"NNP\", \"NNS\", \"VBD\", \"NNP\", \"IN\", \"PRP\", \"MD\", \"RB\", \"VB\"  …  \"JJ\", \"NN\", \"TO\", \"NNP\", \"NNS\", \"IN\", \"NNP\", \"CC\", \"RB\", \".\"]    \n",
       " [\"NNP\", \"VBZ\", \"VBN\", \"VBG\", \"DT\", \"JJ\", \"NN\", \"IN\", \"NNS\", \",\"  …  \"TO\", \"NN\", \",\", \"IN\", \"DT\", \"NN\", \"IN\", \"JJ\", \"NNS\", \".\"]         \n",
       " [\"NNS\", \"IN\", \"NNP\", \"VBP\", \"NNS\", \"CC\", \"JJ\", \"NNS\", \".\"]                                                                             \n",
       " ⋮                                                                                                                                      \n",
       " [\"NNP\", \"NNP\", \"VBZ\", \"IN\", \"CD\", \"NN\", \"IN\", \"DT\", \"JJ\", \"NNS\"  …  \"NNP\", \"NNP\", \"WDT\", \"VBZ\", \"VBG\", \"DT\", \"NNS\", \"PRP\", \"VBD\", \".\"] \n",
       " [\"NNP\", \"POS\", \"NN\", \"VBZ\", \"RB\", \"VBN\", \"VBG\", \"DT\", \"NN\", \"TO\"  …  \"NN\", \",\", \"VBG\", \"DT\", \"NN\", \"IN\", \"DT\", \"JJ\", \"NN\", \".\"]        \n",
       " [\"NNP\", \"NNP\", \"NNP\", \"VBD\", \"NNP\", \"DT\", \"NN\", \",\", \"RB\", \"VBN\", \"IN\", \"NNP\", \",\", \"RB\", \"MD\", \"VB\", \"VBN\", \"NNP\", \"CD\", \".\"]         \n",
       " [\"NNP\", \"POS\", \"NN\", \"JJ\", \"NN\", \"CC\", \"JJ\", \"NN\", \"NNS\", \"VBP\"  …  \"NN\", \"TO\", \"VB\", \"NN\", \"NN\", \"NNP\", \"NNP\", \"IN\", \"NN\", \".\"]       \n",
       " [\"CC\", \"DT\", \"NNS\", \"VBP\", \"VBN\", \"IN\", \"DT\", \"JJ\", \"NN\", \"IN\", \"DT\", \"JJ\", \"NN\", \".\"]                                                 \n",
       " [\"NNP\", \":\", \"JJ\", \"IN\", \"NNP\", \"NNS\", \"IN\", \"RB\", \"RB\", \"VBD\", \"PRP\\$\", \"JJ\", \"NN\", \".\"]                                              \n",
       " [\"DT\", \"NNS\", \"IN\", \"LQU\", \"DT\", \"NNP\", \"NNP\", \"LQU\", \"VBD\", \"VBN\", \"IN\", \"DT\", \"JJ\", \"NN\", \"IN\", \"CD\", \".\"]                           \n",
       " [\"NNP\", \"VBD\", \"DT\", \"JJ\", \"NN\", \"IN\", \"CD\", \"CC\", \"DT\", \"JJ\"  …  \"NN\", \"CC\", \"VBD\", \"DT\", \"NNP\", \"IN\", \"NNP\", \"IN\", \"CD\", \".\"]        \n",
       " [\"NNP\", \"VBZ\", \"DT\", \"JJ\", \"NN\", \"IN\", \"DT\", \"NNP\", \".\"]                                                                               \n",
       " [\"NNP\", \"NNP\", \",\", \"VBG\", \"IN\", \"DT\", \"NN\", \",\", \"VBD\", \"DT\"  …  \"DT\", \"NN\", \"CC\", \"VBD\", \"TO\", \"VB\", \"PRP\", \"IN\", \"NNS\", \".\"]        \n",
       " [\"PRP\", \"VBD\", \"NN\", \"IN\", \"PRP\", \",\", \"WRB\", \"CD\", \"IN\", \"DT\"  …  \"NN\", \"TO\", \"PRP\", \",\", \"VBZ\", \"NN\", \"TO\", \"PRP\", \".\", \"LQU\"]       \n",
       " [\":\", \"RQU\", \"CD\", \"NN\", \"POS\", \"NN\", \"MD\", \"VB\", \"DT\", \"POS\", \"NN\", \".\", \"LQU\", \":\"]                                                  "
      ]
     },
     "execution_count": 5,
     "metadata": {},
     "output_type": "execute_result"
    }
   ],
   "source": [
    "X = [word.(sentence) for sentence in dataset]\n",
    "Y = [CorpusLoaders.part_of_speech.(sentence) for sentence in dataset]"
   ]
  },
  {
   "cell_type": "code",
   "execution_count": 10,
   "metadata": {},
   "outputs": [
    {
     "name": "stdout",
     "output_type": "stream",
     "text": [
      "[\"\\$\", \",\", \".\", \":\", \";\", \"AS\", \"CC\", \"CD\", \"DT\", \"EX\", \"FW\", \"IN\", \"JJ\", \"JJR\", \"JJS\", \"LQU\", \"LRB\", \"MD\", \"NN\", \"NNP\", \"NNPS\", \"NNS\", \"PDT\", \"POS\", \"PRP\", \"PRP\\$\", \"RB\", \"RBR\", \"RBS\", \"RP\", \"RQU\", \"RRB\", \"SO\", \"TO\", \"UH\", \"VB\", \"VBD\", \"VBG\", \"VBN\", \"VBP\", \"VBZ\", \"WDT\", \"WP\", \"WP\\$\", \"WRB\"]\n"
     ]
    }
   ],
   "source": [
    "println(sort(unique(vcat(Y...))))"
   ]
  },
  {
   "cell_type": "code",
   "execution_count": 9,
   "metadata": {},
   "outputs": [
    {
     "data": {
      "text/plain": [
       "TextAnalysis.POS_model{TextAnalysis.BiLSTM_CNN_CRF_Model{Flux.Conv{2,2,typeof(identity),TrackedArray{…,Array{Float32,4}},TrackedArray{…,Array{Float32,1}}},Array{Float32,2},Flux.Recur{Flux.LSTMCell{TrackedArray{…,Array{Float32,2}},TrackedArray{…,Array{Float32,1}}}},Flux.Dense{typeof(identity),TrackedArray{…,Array{Float32,2}},TrackedArray{…,Array{Float32,1}}},CRF{TrackedArray{…,Array{Float32,2}}},Array{Int64,2}}}(TextAnalysis.BiLSTM_CNN_CRF_Model{Flux.Conv{2,2,typeof(identity),TrackedArray{…,Array{Float32,4}},TrackedArray{…,Array{Float32,1}}},Array{Float32,2},Flux.Recur{Flux.LSTMCell{TrackedArray{…,Array{Float32,2}},TrackedArray{…,Array{Float32,1}}}},Flux.Dense{typeof(identity),TrackedArray{…,Array{Float32,2}},TrackedArray{…,Array{Float32,1}}},CRF{TrackedArray{…,Array{Float32,2}}},Array{Int64,2}}([\"NNP\", \"VBZ\", \"JJ\", \"NN\", \"TO\", \"VB\", \".\", \"CD\", \"DT\", \"VBD\"  …  \"NNPS\", \"SYM\", \"RBS\", \"UH\", \"PDT\", \"''\", \"LS\", \"JJS\", \"WP\\$\", \"NN|SYM\"], Dict('w'=>81,'E'=>34,'7'=>22,'Z'=>55,']'=>57,'o'=>73,'B'=>31,'5'=>20,'h'=>66,'i'=>67…), Dict(\"newdigate\"=>164100,\"daufuskie\"=>254784,\"single-arm\"=>192007,\"titration\"=>117879,\"qajar\"=>66399,\"pinheiro\"=>38763,\"hospitalet\"=>282158,\"kennedale\"=>223560,\"tetracyclic\"=>353804,\"moher\"=>167242…), Conv((25, 3), 1=>30), Float32[0.324532 0.276628 … 0.93317 0.668837; 0.0416131 0.155551 … 0.972256 0.629057; … ; 0.532381 0.0118539 … 0.887152 0.995463; 0.357967 0.00347014 … 0.955667 0.699518], Float32[-0.038194 -0.10767 … 0.130363 0.320545; -0.24487 0.11053 … 0.417304 0.333687; … ; 0.8278 0.45293 … 0.560038 0.227423; 0.27062 0.082577 … 0.784674 0.972542], Recur(LSTMCell(130, 200)), Recur(LSTMCell(130, 200)), Dense(400, 47), CRF with 47 distinct tags (including START and STOP tags)., [-10000; -10000; … ; 0; -10000], 400001, 85))"
      ]
     },
     "execution_count": 9,
     "metadata": {},
     "output_type": "execute_result"
    }
   ],
   "source": [
    "pos = POS_Tagger()"
   ]
  },
  {
   "cell_type": "code",
   "execution_count": 13,
   "metadata": {},
   "outputs": [
    {
     "name": "stdout",
     "output_type": "stream",
     "text": [
      "[\"\\\"\", \"\\$\", \"''\", \"(\", \")\", \",\", \".\", \":\", \"CC\", \"CD\", \"DT\", \"EX\", \"FW\", \"IN\", \"JJ\", \"JJR\", \"JJS\", \"LS\", \"MD\", \"NN\", \"NNP\", \"NNPS\", \"NNS\", \"NN|SYM\", \"PDT\", \"POS\", \"PRP\", \"PRP\\$\", \"RB\", \"RBR\", \"RBS\", \"RP\", \"SYM\", \"TO\", \"UH\", \"VB\", \"VBD\", \"VBG\", \"VBN\", \"VBP\", \"VBZ\", \"WDT\", \"WP\", \"WP\\$\", \"WRB\"]\n"
     ]
    }
   ],
   "source": [
    "println(sort(pos.model.labels))"
   ]
  },
  {
   "cell_type": "code",
   "execution_count": 15,
   "metadata": {},
   "outputs": [
    {
     "data": {
      "text/plain": [
       "eval_ (generic function with 1 method)"
      ]
     },
     "execution_count": 15,
     "metadata": {},
     "output_type": "execute_result"
    }
   ],
   "source": [
    "function eval_(pos, X, Y)\n",
    "    possible_labels = pos.model.labels\n",
    "    num_correct = 0\n",
    "    num_total = 0\n",
    "\n",
    "    for (x_seq, y_seq) in zip(X, Y)\n",
    "        preds = pos(x_seq)\n",
    "\n",
    "        for i in eachindex(preds)\n",
    "            if y_seq[i] ∈ possible_labels\n",
    "                num_total += 1\n",
    "                if preds[i] == y_seq[i]\n",
    "                    num_correct += 1\n",
    "                end\n",
    "#             elseif x_seq[i] ∈ (\"\\\"\", \"''\", \"(\", \")\", \";\")\n",
    "#                 num_total += 1\n",
    "#                 if preds[i] == x_seq[i]\n",
    "#                     num_correct += 1\n",
    "#                 end\n",
    "            end\n",
    "        end\n",
    "    end\n",
    "\n",
    "    println(\"Accuracy: \", num_correct / num_total)\n",
    "end"
   ]
  },
  {
   "cell_type": "code",
   "execution_count": 16,
   "metadata": {},
   "outputs": [
    {
     "name": "stdout",
     "output_type": "stream",
     "text": [
      "Accuracy: 0.9222295729242143\n"
     ]
    }
   ],
   "source": [
    "eval_(pos, X, Y)"
   ]
  },
  {
   "cell_type": "code",
   "execution_count": null,
   "metadata": {},
   "outputs": [],
   "source": []
  }
 ],
 "metadata": {
  "kernelspec": {
   "display_name": "Julia 1.0.3",
   "language": "julia",
   "name": "julia-1.0"
  },
  "language_info": {
   "file_extension": ".jl",
   "mimetype": "application/julia",
   "name": "julia",
   "version": "1.0.3"
  }
 },
 "nbformat": 4,
 "nbformat_minor": 2
}
