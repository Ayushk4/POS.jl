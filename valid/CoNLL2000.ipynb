{
 "cells": [
  {
   "cell_type": "code",
   "execution_count": 1,
   "metadata": {},
   "outputs": [
    {
     "name": "stderr",
     "output_type": "stream",
     "text": [
      "┌ Info: Recompiling stale cache file /home/ayushk4/.julia/compiled/v1.0/TextAnalysis/5Mwet.ji for TextAnalysis [a2db99b7-8b79-58f8-94bf-bbc811eef33d]\n",
      "└ @ Base loading.jl:1190\n",
      "┌ Warning: Package TextAnalysis does not have Libdl in its dependencies:\n",
      "│ - If you have TextAnalysis checked out for development and have\n",
      "│   added Libdl as a dependency but haven't updated your primary\n",
      "│   environment's manifest file, try `Pkg.resolve()`.\n",
      "│ - Otherwise you may need to report an issue with TextAnalysis\n",
      "└ Loading Libdl into TextAnalysis from project dependency, future warnings for TextAnalysis are suppressed.\n",
      "┌ Info: Recompiling stale cache file /home/ayushk4/.julia/compiled/v1.0/CorpusLoaders/jEgYN.ji for CorpusLoaders [8f4694b6-a17a-549f-a57e-76e1fca3f017]\n",
      "└ @ Base loading.jl:1190\n",
      "┌ Warning: Package CorpusLoaders does not have CSV in its dependencies:\n",
      "│ - If you have CorpusLoaders checked out for development and have\n",
      "│   added CSV as a dependency but haven't updated your primary\n",
      "│   environment's manifest file, try `Pkg.resolve()`.\n",
      "│ - Otherwise you may need to report an issue with CorpusLoaders\n",
      "└ Loading CSV into CorpusLoaders from project dependency, future warnings for CorpusLoaders are suppressed.\n"
     ]
    }
   ],
   "source": [
    "using TextAnalysis, CorpusLoaders, MultiResolutionIterators"
   ]
  },
  {
   "cell_type": "code",
   "execution_count": 2,
   "metadata": {
    "collapsed": true
   },
   "outputs": [
    {
     "data": {
      "text/plain": [
       "TextAnalysis.POS_model{TextAnalysis.BiLSTM_CNN_CRF_Model{Flux.Conv{2,2,typeof(identity),TrackedArray{…,Array{Float32,4}},TrackedArray{…,Array{Float32,1}}},Array{Float32,2},Flux.Recur{Flux.LSTMCell{TrackedArray{…,Array{Float32,2}},TrackedArray{…,Array{Float32,1}}}},Flux.Dense{typeof(identity),TrackedArray{…,Array{Float32,2}},TrackedArray{…,Array{Float32,1}}},CRF{TrackedArray{…,Array{Float32,2}}},Array{Int64,2}}}(TextAnalysis.BiLSTM_CNN_CRF_Model{Flux.Conv{2,2,typeof(identity),TrackedArray{…,Array{Float32,4}},TrackedArray{…,Array{Float32,1}}},Array{Float32,2},Flux.Recur{Flux.LSTMCell{TrackedArray{…,Array{Float32,2}},TrackedArray{…,Array{Float32,1}}}},Flux.Dense{typeof(identity),TrackedArray{…,Array{Float32,2}},TrackedArray{…,Array{Float32,1}}},CRF{TrackedArray{…,Array{Float32,2}}},Array{Int64,2}}([\"NNP\", \"VBZ\", \"JJ\", \"NN\", \"TO\", \"VB\", \".\", \"CD\", \"DT\", \"VBD\"  …  \"NNPS\", \"SYM\", \"RBS\", \"UH\", \"PDT\", \"''\", \"LS\", \"JJS\", \"WP\\$\", \"NN|SYM\"], Dict('w'=>81,'E'=>34,'7'=>22,'Z'=>55,']'=>57,'o'=>73,'B'=>31,'5'=>20,'h'=>66,'i'=>67…), Dict(\"newdigate\"=>164100,\"daufuskie\"=>254784,\"single-arm\"=>192007,\"titration\"=>117879,\"qajar\"=>66399,\"pinheiro\"=>38763,\"hospitalet\"=>282158,\"kennedale\"=>223560,\"tetracyclic\"=>353804,\"moher\"=>167242…), Conv((25, 3), 1=>30), Float32[0.324532 0.276628 … 0.93317 0.668837; 0.0416131 0.155551 … 0.972256 0.629057; … ; 0.532381 0.0118539 … 0.887152 0.995463; 0.357967 0.00347014 … 0.955667 0.699518], Float32[-0.038194 -0.10767 … 0.130363 0.320545; -0.24487 0.11053 … 0.417304 0.333687; … ; 0.8278 0.45293 … 0.560038 0.227423; 0.27062 0.082577 … 0.784674 0.972542], Recur(LSTMCell(130, 200)), Recur(LSTMCell(130, 200)), Dense(400, 47), CRF with 47 distinct tags (including START and STOP tags)., [-10000; -10000; … ; 0; -10000], 400001, 85))"
      ]
     },
     "execution_count": 2,
     "metadata": {},
     "output_type": "execute_result"
    }
   ],
   "source": [
    "pos = POS_Tagger()"
   ]
  },
  {
   "cell_type": "code",
   "execution_count": 3,
   "metadata": {
    "collapsed": true
   },
   "outputs": [
    {
     "data": {
      "text/plain": [
       "CorpusLoaders.Document{Array{Array{CorpusLoaders.POSTaggedWord,1},1},String}(\"test.txt\", Array{CorpusLoaders.POSTaggedWord,1}[[POSTaggedWord(\"NNP\", \"B-NP\", \"Rockwell\"), POSTaggedWord(\"NNP\", \"I-NP\", \"International\"), POSTaggedWord(\"NNP\", \"I-NP\", \"Corp.\"), POSTaggedWord(\"POS\", \"B-NP\", \"'s\"), POSTaggedWord(\"NNP\", \"I-NP\", \"Tulsa\"), POSTaggedWord(\"NN\", \"I-NP\", \"unit\"), POSTaggedWord(\"VBD\", \"B-VP\", \"said\"), POSTaggedWord(\"PRP\", \"B-NP\", \"it\"), POSTaggedWord(\"VBD\", \"B-VP\", \"signed\"), POSTaggedWord(\"DT\", \"B-NP\", \"a\")  …  POSTaggedWord(\"TO\", \"B-VP\", \"to\"), POSTaggedWord(\"VB\", \"I-VP\", \"provide\"), POSTaggedWord(\"JJ\", \"B-NP\", \"structural\"), POSTaggedWord(\"NNS\", \"I-NP\", \"parts\"), POSTaggedWord(\"IN\", \"B-PP\", \"for\"), POSTaggedWord(\"NNP\", \"B-NP\", \"Boeing\"), POSTaggedWord(\"POS\", \"B-NP\", \"'s\"), POSTaggedWord(\"CD\", \"I-NP\", \"747\"), POSTaggedWord(\"NNS\", \"I-NP\", \"jetliners\"), POSTaggedWord(\".\", \"O\", \".\")], [POSTaggedWord(\"NNP\", \"B-NP\", \"Rockwell\"), POSTaggedWord(\"VBD\", \"B-VP\", \"said\"), POSTaggedWord(\"DT\", \"B-NP\", \"the\"), POSTaggedWord(\"NN\", \"I-NP\", \"agreement\"), POSTaggedWord(\"VBZ\", \"B-VP\", \"calls\"), POSTaggedWord(\"IN\", \"B-SBAR\", \"for\"), POSTaggedWord(\"PRP\", \"B-NP\", \"it\"), POSTaggedWord(\"TO\", \"B-VP\", \"to\"), POSTaggedWord(\"VB\", \"I-VP\", \"supply\"), POSTaggedWord(\"CD\", \"B-NP\", \"200\"), POSTaggedWord(\"JJ\", \"I-NP\", \"additional\"), POSTaggedWord(\"JJ\", \"I-NP\", \"so-called\"), POSTaggedWord(\"NNS\", \"I-NP\", \"shipsets\"), POSTaggedWord(\"IN\", \"B-PP\", \"for\"), POSTaggedWord(\"DT\", \"B-NP\", \"the\"), POSTaggedWord(\"NNS\", \"I-NP\", \"planes\"), POSTaggedWord(\".\", \"O\", \".\")], [POSTaggedWord(\"DT\", \"B-NP\", \"These\"), POSTaggedWord(\"VBP\", \"B-VP\", \"include\"), POSTaggedWord(\",\", \"O\", \",\"), POSTaggedWord(\"IN\", \"B-PP\", \"among\"), POSTaggedWord(\"JJ\", \"B-NP\", \"other\"), POSTaggedWord(\"NNS\", \"I-NP\", \"parts\"), POSTaggedWord(\",\", \"O\", \",\"), POSTaggedWord(\"DT\", \"B-NP\", \"each\"), POSTaggedWord(\"NN\", \"I-NP\", \"jetliner\"), POSTaggedWord(\"POS\", \"B-NP\", \"'s\")  …  POSTaggedWord(\"NNS\", \"I-NP\", \"edges\"), POSTaggedWord(\"IN\", \"B-PP\", \"for\"), POSTaggedWord(\"DT\", \"B-NP\", \"the\"), POSTaggedWord(\"NNS\", \"I-NP\", \"wings\"), POSTaggedWord(\"CC\", \"O\", \"and\"), POSTaggedWord(\"DT\", \"B-NP\", \"an\"), POSTaggedWord(\"JJ\", \"I-NP\", \"aft\"), POSTaggedWord(\"NN\", \"I-NP\", \"keel\"), POSTaggedWord(\"NN\", \"I-NP\", \"beam\"), POSTaggedWord(\".\", \"O\", \".\")], [POSTaggedWord(\"IN\", \"B-PP\", \"Under\"), POSTaggedWord(\"DT\", \"B-NP\", \"the\"), POSTaggedWord(\"VBG\", \"I-NP\", \"existing\"), POSTaggedWord(\"NN\", \"I-NP\", \"contract\"), POSTaggedWord(\",\", \"O\", \",\"), POSTaggedWord(\"NNP\", \"B-NP\", \"Rockwell\"), POSTaggedWord(\"VBD\", \"B-VP\", \"said\"), POSTaggedWord(\",\", \"O\", \",\"), POSTaggedWord(\"PRP\", \"B-NP\", \"it\"), POSTaggedWord(\"VBZ\", \"B-VP\", \"has\"), POSTaggedWord(\"RB\", \"I-VP\", \"already\"), POSTaggedWord(\"VBN\", \"I-VP\", \"delivered\"), POSTaggedWord(\"CD\", \"B-NP\", \"793\"), POSTaggedWord(\"IN\", \"B-PP\", \"of\"), POSTaggedWord(\"DT\", \"B-NP\", \"the\"), POSTaggedWord(\"NNS\", \"I-NP\", \"shipsets\"), POSTaggedWord(\"TO\", \"B-PP\", \"to\"), POSTaggedWord(\"NNP\", \"B-NP\", \"Boeing\"), POSTaggedWord(\".\", \"O\", \".\")], [POSTaggedWord(\"NNP\", \"B-NP\", \"Rockwell\"), POSTaggedWord(\",\", \"O\", \",\"), POSTaggedWord(\"VBN\", \"B-VP\", \"based\"), POSTaggedWord(\"IN\", \"B-PP\", \"in\"), POSTaggedWord(\"NNP\", \"B-NP\", \"El\"), POSTaggedWord(\"NNP\", \"I-NP\", \"Segundo\"), POSTaggedWord(\",\", \"O\", \",\"), POSTaggedWord(\"NNP\", \"B-NP\", \"Calif.\"), POSTaggedWord(\",\", \"O\", \",\"), POSTaggedWord(\"VBZ\", \"B-VP\", \"is\"), POSTaggedWord(\"DT\", \"B-NP\", \"an\"), POSTaggedWord(\"NN\", \"I-NP\", \"aerospace\"), POSTaggedWord(\",\", \"I-NP\", \",\"), POSTaggedWord(\"NNS\", \"I-NP\", \"electronics\"), POSTaggedWord(\",\", \"I-NP\", \",\"), POSTaggedWord(\"JJ\", \"I-NP\", \"automotive\"), POSTaggedWord(\"CC\", \"I-NP\", \"and\"), POSTaggedWord(\"NNS\", \"I-NP\", \"graphics\"), POSTaggedWord(\"VBP\", \"I-NP\", \"concern\"), POSTaggedWord(\".\", \"O\", \".\")], [POSTaggedWord(\"NNP\", \"B-NP\", \"Frank\"), POSTaggedWord(\"NNP\", \"I-NP\", \"Carlucci\"), POSTaggedWord(\"NNP\", \"I-NP\", \"III\"), POSTaggedWord(\"VBD\", \"B-VP\", \"was\"), POSTaggedWord(\"VBN\", \"I-VP\", \"named\"), POSTaggedWord(\"TO\", \"B-PP\", \"to\"), POSTaggedWord(\"DT\", \"B-NP\", \"this\"), POSTaggedWord(\"NNS\", \"I-NP\", \"telecommunications\"), POSTaggedWord(\"NN\", \"I-NP\", \"company\"), POSTaggedWord(\"POS\", \"B-NP\", \"'s\")  …  POSTaggedWord(\"VBN\", \"B-VP\", \"created\"), POSTaggedWord(\"IN\", \"B-PP\", \"by\"), POSTaggedWord(\"DT\", \"B-NP\", \"the\"), POSTaggedWord(\"NN\", \"I-NP\", \"death\"), POSTaggedWord(\"IN\", \"B-PP\", \"of\"), POSTaggedWord(\"NNP\", \"B-NP\", \"William\"), POSTaggedWord(\"NNP\", \"I-NP\", \"Sobey\"), POSTaggedWord(\"JJ\", \"B-NP\", \"last\"), POSTaggedWord(\"NNP\", \"I-NP\", \"May\"), POSTaggedWord(\".\", \"O\", \".\")], [POSTaggedWord(\"NNP\", \"B-NP\", \"Mr.\"), POSTaggedWord(\"NNP\", \"I-NP\", \"Carlucci\"), POSTaggedWord(\",\", \"O\", \",\"), POSTaggedWord(\"CD\", \"B-NP\", \"59\"), POSTaggedWord(\"NNS\", \"I-NP\", \"years\"), POSTaggedWord(\"JJ\", \"B-ADJP\", \"old\"), POSTaggedWord(\",\", \"O\", \",\"), POSTaggedWord(\"VBN\", \"B-VP\", \"served\"), POSTaggedWord(\"IN\", \"B-PP\", \"as\"), POSTaggedWord(\"NN\", \"B-NP\", \"defense\"), POSTaggedWord(\"NN\", \"I-NP\", \"secretary\"), POSTaggedWord(\"IN\", \"B-PP\", \"in\"), POSTaggedWord(\"DT\", \"B-NP\", \"the\"), POSTaggedWord(\"NNP\", \"I-NP\", \"Reagan\"), POSTaggedWord(\"NN\", \"I-NP\", \"administration\"), POSTaggedWord(\".\", \"O\", \".\")], [POSTaggedWord(\"IN\", \"B-PP\", \"In\"), POSTaggedWord(\"NNP\", \"B-NP\", \"January\"), POSTaggedWord(\",\", \"O\", \",\"), POSTaggedWord(\"PRP\", \"B-NP\", \"he\"), POSTaggedWord(\"VBD\", \"B-VP\", \"accepted\"), POSTaggedWord(\"DT\", \"B-NP\", \"the\"), POSTaggedWord(\"NN\", \"I-NP\", \"position\"), POSTaggedWord(\"IN\", \"B-PP\", \"of\"), POSTaggedWord(\"NN\", \"B-NP\", \"vice\"), POSTaggedWord(\"NN\", \"I-NP\", \"chairman\"), POSTaggedWord(\"IN\", \"B-PP\", \"of\"), POSTaggedWord(\"NNP\", \"B-NP\", \"Carlyle\"), POSTaggedWord(\"NNP\", \"I-NP\", \"Group\"), POSTaggedWord(\",\", \"O\", \",\"), POSTaggedWord(\"DT\", \"B-NP\", \"a\"), POSTaggedWord(\"NN\", \"I-NP\", \"merchant\"), POSTaggedWord(\"NN\", \"I-NP\", \"banking\"), POSTaggedWord(\"NN\", \"I-NP\", \"concern\"), POSTaggedWord(\".\", \"O\", \".\")], [POSTaggedWord(\"NNP\", \"B-NP\", \"SHEARSON\"), POSTaggedWord(\"NNP\", \"I-NP\", \"LEHMAN\"), POSTaggedWord(\"NNP\", \"I-NP\", \"HUTTON\"), POSTaggedWord(\"NNP\", \"I-NP\", \"Inc\"), POSTaggedWord(\".\", \"O\", \".\")], [POSTaggedWord(\"NNP\", \"B-NP\", \"Thomas\"), POSTaggedWord(\"NNP\", \"I-NP\", \"E.\"), POSTaggedWord(\"NNP\", \"I-NP\", \"Meador\"), POSTaggedWord(\",\", \"O\", \",\"), POSTaggedWord(\"CD\", \"B-NP\", \"42\"), POSTaggedWord(\"NNS\", \"I-NP\", \"years\"), POSTaggedWord(\"JJ\", \"B-ADJP\", \"old\"), POSTaggedWord(\",\", \"O\", \",\"), POSTaggedWord(\"VBD\", \"B-VP\", \"was\"), POSTaggedWord(\"VBN\", \"I-VP\", \"named\")  …  POSTaggedWord(\",\", \"I-NP\", \",\"), POSTaggedWord(\"NN\", \"I-NP\", \"subsidiary\"), POSTaggedWord(\"IN\", \"B-PP\", \"of\"), POSTaggedWord(\"DT\", \"B-NP\", \"this\"), POSTaggedWord(\"NNP\", \"I-NP\", \"New\"), POSTaggedWord(\"NNP\", \"I-NP\", \"York\"), POSTaggedWord(\"NN\", \"I-NP\", \"investment\"), POSTaggedWord(\"NN\", \"I-NP\", \"banking\"), POSTaggedWord(\"NN\", \"I-NP\", \"firm\"), POSTaggedWord(\".\", \"O\", \".\")]  …  [POSTaggedWord(\"CC\", \"O\", \"But\"), POSTaggedWord(\"DT\", \"B-NP\", \"the\"), POSTaggedWord(\"NN\", \"I-NP\", \"test\"), POSTaggedWord(\"MD\", \"B-VP\", \"may\"), POSTaggedWord(\"VB\", \"I-VP\", \"prove\"), POSTaggedWord(\"TO\", \"I-VP\", \"to\"), POSTaggedWord(\"VB\", \"I-VP\", \"be\"), POSTaggedWord(\"RBR\", \"B-ADJP\", \"more\"), POSTaggedWord(\"JJ\", \"I-ADJP\", \"sensitive\"), POSTaggedWord(\"IN\", \"B-PP\", \"in\")  …  POSTaggedWord(\"NN\", \"I-VP\", \"spread\"), POSTaggedWord(\"CC\", \"I-VP\", \"or\"), POSTaggedWord(\"VBN\", \"I-VP\", \"returned\"), POSTaggedWord(\"VBG\", \"B-PP\", \"following\"), POSTaggedWord(\"NN\", \"B-NP\", \"treatment\"), POSTaggedWord(\",\", \"O\", \",\"), POSTaggedWord(\"NNP\", \"B-NP\", \"Dr.\"), POSTaggedWord(\"NNP\", \"I-NP\", \"Wilson\"), POSTaggedWord(\"VBD\", \"B-VP\", \"said\"), POSTaggedWord(\".\", \"O\", \".\")], [POSTaggedWord(\"``\", \"O\", \"``\"), POSTaggedWord(\"PRP\", \"B-NP\", \"We\"), POSTaggedWord(\"VBP\", \"B-VP\", \"do\"), POSTaggedWord(\"RB\", \"I-VP\", \"n't\"), POSTaggedWord(\"VB\", \"I-VP\", \"know\"), POSTaggedWord(\"RB\", \"B-ADVP\", \"yet\"), POSTaggedWord(\"WRB\", \"B-ADVP\", \"how\"), POSTaggedWord(\"JJ\", \"B-ADJP\", \"useful\"), POSTaggedWord(\"PRP\", \"B-NP\", \"it\"), POSTaggedWord(\"VBZ\", \"B-VP\", \"'s\"), POSTaggedWord(\"VBG\", \"I-VP\", \"going\"), POSTaggedWord(\"TO\", \"I-VP\", \"to\"), POSTaggedWord(\"VB\", \"I-VP\", \"be\"), POSTaggedWord(\",\", \"O\", \",\"), POSTaggedWord(\"''\", \"O\", \"''\"), POSTaggedWord(\"PRP\", \"B-NP\", \"he\"), POSTaggedWord(\"VBD\", \"B-VP\", \"said\"), POSTaggedWord(\".\", \"O\", \".\")], [POSTaggedWord(\"NNP\", \"B-NP\", \"Oncor\"), POSTaggedWord(\",\", \"O\", \",\"), POSTaggedWord(\"DT\", \"B-NP\", \"a\"), POSTaggedWord(\"JJ\", \"I-NP\", \"six-year-old\"), POSTaggedWord(\"NN\", \"I-NP\", \"developer\"), POSTaggedWord(\"IN\", \"B-PP\", \"of\"), POSTaggedWord(\"JJ\", \"B-NP\", \"genetic\"), POSTaggedWord(\"JJ\", \"I-NP\", \"medical\"), POSTaggedWord(\"NNS\", \"I-NP\", \"tests\"), POSTaggedWord(\",\", \"O\", \",\")  …  POSTaggedWord(\"DT\", \"B-NP\", \"the\"), POSTaggedWord(\"JJ\", \"I-NP\", \"first\"), POSTaggedWord(\"NN\", \"I-NP\", \"quarter\"), POSTaggedWord(\"IN\", \"B-PP\", \"of\"), POSTaggedWord(\"CD\", \"B-NP\", \"1990\"), POSTaggedWord(\",\", \"O\", \",\"), POSTaggedWord(\"NNP\", \"B-NP\", \"Mr.\"), POSTaggedWord(\"NNP\", \"I-NP\", \"Turner\"), POSTaggedWord(\"VBD\", \"B-VP\", \"said\"), POSTaggedWord(\".\", \"O\", \".\")], [POSTaggedWord(\"DT\", \"B-NP\", \"The\"), POSTaggedWord(\"NN\", \"I-NP\", \"company\"), POSTaggedWord(\"MD\", \"B-VP\", \"will\"), POSTaggedWord(\"VB\", \"I-VP\", \"charge\"), POSTaggedWord(\"\\$\", \"B-NP\", \"\\$\"), POSTaggedWord(\"CD\", \"I-NP\", \"35\"), POSTaggedWord(\"IN\", \"B-PP\", \"for\"), POSTaggedWord(\"DT\", \"B-NP\", \"a\"), POSTaggedWord(\"NN\", \"I-NP\", \"test\"), POSTaggedWord(\"CC\", \"O\", \"and\")  …  POSTaggedWord(\"DT\", \"B-NP\", \"the\"), POSTaggedWord(\"JJ\", \"I-NP\", \"first\"), POSTaggedWord(\"CD\", \"I-NP\", \"12\"), POSTaggedWord(\"NNS\", \"I-NP\", \"months\"), POSTaggedWord(\"IN\", \"B-PP\", \"of\"), POSTaggedWord(\"NN\", \"B-NP\", \"marketing\"), POSTaggedWord(\",\", \"O\", \",\"), POSTaggedWord(\"PRP\", \"B-NP\", \"he\"), POSTaggedWord(\"VBD\", \"B-VP\", \"said\"), POSTaggedWord(\".\", \"O\", \".\")], [POSTaggedWord(\"NNP\", \"B-NP\", \"Unilab\"), POSTaggedWord(\"NNP\", \"I-NP\", \"Corp.\"), POSTaggedWord(\",\", \"O\", \",\"), POSTaggedWord(\"NNP\", \"B-NP\", \"Norcross\"), POSTaggedWord(\",\", \"O\", \",\"), POSTaggedWord(\"NNP\", \"B-NP\", \"Ga.\"), POSTaggedWord(\",\", \"O\", \",\"), POSTaggedWord(\"VBD\", \"B-VP\", \"said\"), POSTaggedWord(\"PRP\", \"B-NP\", \"it\"), POSTaggedWord(\"VBD\", \"B-VP\", \"acquired\")  …  POSTaggedWord(\"NN\", \"I-NP\", \"cash\"), POSTaggedWord(\"CC\", \"I-NP\", \"and\"), POSTaggedWord(\"NNS\", \"I-NP\", \"securities\"), POSTaggedWord(\"NN\", \"I-NP\", \"transaction\"), POSTaggedWord(\"VBN\", \"B-VP\", \"valued\"), POSTaggedWord(\"IN\", \"B-PP\", \"at\"), POSTaggedWord(\"\\$\", \"B-NP\", \"\\$\"), POSTaggedWord(\"CD\", \"I-NP\", \"85\"), POSTaggedWord(\"CD\", \"I-NP\", \"million\"), POSTaggedWord(\".\", \"O\", \".\")], [POSTaggedWord(\"NNP\", \"B-NP\", \"Unilab\"), POSTaggedWord(\"VBD\", \"B-VP\", \"said\"), POSTaggedWord(\"PRP\\$\", \"B-NP\", \"its\"), POSTaggedWord(\"RB\", \"I-NP\", \"wholly\"), POSTaggedWord(\"VBN\", \"I-NP\", \"owned\"), POSTaggedWord(\"NNP\", \"I-NP\", \"MetWest\"), POSTaggedWord(\"NNP\", \"I-NP\", \"Inc.\"), POSTaggedWord(\"NN\", \"I-NP\", \"unit\"), POSTaggedWord(\"VBN\", \"B-VP\", \"paid\"), POSTaggedWord(\"\\$\", \"B-NP\", \"\\$\")  …  POSTaggedWord(\"TO\", \"B-VP\", \"to\"), POSTaggedWord(\"VB\", \"I-VP\", \"acquire\"), POSTaggedWord(\"NNP\", \"B-NP\", \"Central\"), POSTaggedWord(\"POS\", \"B-NP\", \"'s\"), POSTaggedWord(\"NNS\", \"I-NP\", \"labs\"), POSTaggedWord(\"IN\", \"B-PP\", \"in\"), POSTaggedWord(\"DT\", \"B-NP\", \"the\"), POSTaggedWord(\"NNP\", \"I-NP\", \"Western\"), POSTaggedWord(\"NNP\", \"I-NP\", \"U.S.\"), POSTaggedWord(\".\", \"O\", \".\")], [POSTaggedWord(\"NNP\", \"B-NP\", \"Unilab\"), POSTaggedWord(\",\", \"O\", \",\"), POSTaggedWord(\"WDT\", \"B-NP\", \"which\"), POSTaggedWord(\"VBZ\", \"B-VP\", \"provides\"), POSTaggedWord(\"JJ\", \"B-NP\", \"clinical\"), POSTaggedWord(\"NN\", \"I-NP\", \"laboratory\"), POSTaggedWord(\"NNS\", \"I-NP\", \"services\"), POSTaggedWord(\",\", \"O\", \",\"), POSTaggedWord(\"VBD\", \"B-VP\", \"competed\"), POSTaggedWord(\"IN\", \"B-PP\", \"with\")  …  POSTaggedWord(\"NNP\", \"B-NP\", \"Tarzana\"), POSTaggedWord(\",\", \"O\", \",\"), POSTaggedWord(\"NNP\", \"B-NP\", \"Calif.\"), POSTaggedWord(\",\", \"O\", \",\"), POSTaggedWord(\"IN\", \"B-PP\", \"in\"), POSTaggedWord(\"DT\", \"B-NP\", \"a\"), POSTaggedWord(\"NN\", \"I-NP\", \"number\"), POSTaggedWord(\"IN\", \"B-PP\", \"of\"), POSTaggedWord(\"NNS\", \"B-NP\", \"areas\"), POSTaggedWord(\".\", \"O\", \".\")], [POSTaggedWord(\"IN\", \"B-PP\", \"Beyond\"), POSTaggedWord(\"VBG\", \"B-VP\", \"removing\"), POSTaggedWord(\"DT\", \"B-NP\", \"a\"), POSTaggedWord(\"NN\", \"I-NP\", \"competitor\"), POSTaggedWord(\",\", \"O\", \",\"), POSTaggedWord(\"DT\", \"B-NP\", \"the\"), POSTaggedWord(\"NN\", \"I-NP\", \"combination\"), POSTaggedWord(\"MD\", \"B-VP\", \"should\"), POSTaggedWord(\"VB\", \"I-VP\", \"provide\"), POSTaggedWord(\"``\", \"O\", \"``\")  …  POSTaggedWord(\"VBD\", \"B-VP\", \"said\"), POSTaggedWord(\"NNP\", \"B-NP\", \"Fred\"), POSTaggedWord(\"NNP\", \"I-NP\", \"Harlow\"), POSTaggedWord(\",\", \"O\", \",\"), POSTaggedWord(\"NNP\", \"B-NP\", \"Unilab\"), POSTaggedWord(\"POS\", \"B-NP\", \"'s\"), POSTaggedWord(\"JJ\", \"I-NP\", \"chief\"), POSTaggedWord(\"JJ\", \"I-NP\", \"financial\"), POSTaggedWord(\"NN\", \"I-NP\", \"officer\"), POSTaggedWord(\".\", \"O\", \".\")], [POSTaggedWord(\"PRP\", \"B-NP\", \"It\"), POSTaggedWord(\"RB\", \"B-ADVP\", \"also\"), POSTaggedWord(\"MD\", \"B-VP\", \"will\"), POSTaggedWord(\"VB\", \"I-VP\", \"hand\"), POSTaggedWord(\"NNP\", \"B-NP\", \"Unilab\"), POSTaggedWord(\"JJ\", \"B-NP\", \"new\"), POSTaggedWord(\"NNS\", \"I-NP\", \"markets\"), POSTaggedWord(\".\", \"O\", \".\")], [POSTaggedWord(\"IN\", \"B-PP\", \"In\"), POSTaggedWord(\"NNP\", \"B-NP\", \"Los\"), POSTaggedWord(\"NNP\", \"I-NP\", \"Angeles\"), POSTaggedWord(\",\", \"O\", \",\"), POSTaggedWord(\"IN\", \"B-PP\", \"for\"), POSTaggedWord(\"NN\", \"B-NP\", \"example\"), POSTaggedWord(\",\", \"O\", \",\"), POSTaggedWord(\"NNP\", \"B-NP\", \"Central\"), POSTaggedWord(\"VBZ\", \"B-VP\", \"has\"), POSTaggedWord(\"VBN\", \"I-VP\", \"had\")  …  POSTaggedWord(\"VBZ\", \"B-VP\", \"has\"), POSTaggedWord(\"VBN\", \"I-VP\", \"been\"), POSTaggedWord(\"RBR\", \"B-ADJP\", \"less\"), POSTaggedWord(\"JJ\", \"I-ADJP\", \"prominent\"), POSTaggedWord(\",\", \"O\", \",\"), POSTaggedWord(\"VBG\", \"B-PP\", \"according\"), POSTaggedWord(\"TO\", \"B-PP\", \"to\"), POSTaggedWord(\"NNP\", \"B-NP\", \"Mr.\"), POSTaggedWord(\"NNP\", \"I-NP\", \"Harlow\"), POSTaggedWord(\".\", \"O\", \".\")]])"
      ]
     },
     "execution_count": 3,
     "metadata": {},
     "output_type": "execute_result"
    }
   ],
   "source": [
    "train_set = CorpusLoaders.load(CoNLL2000(), \"train\") # training set\n",
    "test_set = CorpusLoaders.load(CoNLL2000(), \"test\") # test set"
   ]
  },
  {
   "cell_type": "code",
   "execution_count": 9,
   "metadata": {
    "collapsed": true
   },
   "outputs": [
    {
     "data": {
      "text/plain": [
       "(Array{String,1}[[\"Rockwell\", \"International\", \"Corp.\", \"'s\", \"Tulsa\", \"unit\", \"said\", \"it\", \"signed\", \"a\"  …  \"to\", \"provide\", \"structural\", \"parts\", \"for\", \"Boeing\", \"'s\", \"747\", \"jetliners\", \".\"], [\"Rockwell\", \"said\", \"the\", \"agreement\", \"calls\", \"for\", \"it\", \"to\", \"supply\", \"200\", \"additional\", \"so-called\", \"shipsets\", \"for\", \"the\", \"planes\", \".\"], [\"These\", \"include\", \",\", \"among\", \"other\", \"parts\", \",\", \"each\", \"jetliner\", \"'s\"  …  \"edges\", \"for\", \"the\", \"wings\", \"and\", \"an\", \"aft\", \"keel\", \"beam\", \".\"], [\"Under\", \"the\", \"existing\", \"contract\", \",\", \"Rockwell\", \"said\", \",\", \"it\", \"has\", \"already\", \"delivered\", \"793\", \"of\", \"the\", \"shipsets\", \"to\", \"Boeing\", \".\"], [\"Rockwell\", \",\", \"based\", \"in\", \"El\", \"Segundo\", \",\", \"Calif.\", \",\", \"is\", \"an\", \"aerospace\", \",\", \"electronics\", \",\", \"automotive\", \"and\", \"graphics\", \"concern\", \".\"], [\"Frank\", \"Carlucci\", \"III\", \"was\", \"named\", \"to\", \"this\", \"telecommunications\", \"company\", \"'s\"  …  \"created\", \"by\", \"the\", \"death\", \"of\", \"William\", \"Sobey\", \"last\", \"May\", \".\"], [\"Mr.\", \"Carlucci\", \",\", \"59\", \"years\", \"old\", \",\", \"served\", \"as\", \"defense\", \"secretary\", \"in\", \"the\", \"Reagan\", \"administration\", \".\"], [\"In\", \"January\", \",\", \"he\", \"accepted\", \"the\", \"position\", \"of\", \"vice\", \"chairman\", \"of\", \"Carlyle\", \"Group\", \",\", \"a\", \"merchant\", \"banking\", \"concern\", \".\"], [\"SHEARSON\", \"LEHMAN\", \"HUTTON\", \"Inc\", \".\"], [\"Thomas\", \"E.\", \"Meador\", \",\", \"42\", \"years\", \"old\", \",\", \"was\", \"named\"  …  \",\", \"subsidiary\", \"of\", \"this\", \"New\", \"York\", \"investment\", \"banking\", \"firm\", \".\"]  …  [\"But\", \"the\", \"test\", \"may\", \"prove\", \"to\", \"be\", \"more\", \"sensitive\", \"in\"  …  \"spread\", \"or\", \"returned\", \"following\", \"treatment\", \",\", \"Dr.\", \"Wilson\", \"said\", \".\"], [\"``\", \"We\", \"do\", \"n't\", \"know\", \"yet\", \"how\", \"useful\", \"it\", \"'s\", \"going\", \"to\", \"be\", \",\", \"''\", \"he\", \"said\", \".\"], [\"Oncor\", \",\", \"a\", \"six-year-old\", \"developer\", \"of\", \"genetic\", \"medical\", \"tests\", \",\"  …  \"the\", \"first\", \"quarter\", \"of\", \"1990\", \",\", \"Mr.\", \"Turner\", \"said\", \".\"], [\"The\", \"company\", \"will\", \"charge\", \"\\$\", \"35\", \"for\", \"a\", \"test\", \"and\"  …  \"the\", \"first\", \"12\", \"months\", \"of\", \"marketing\", \",\", \"he\", \"said\", \".\"], [\"Unilab\", \"Corp.\", \",\", \"Norcross\", \",\", \"Ga.\", \",\", \"said\", \"it\", \"acquired\"  …  \"cash\", \"and\", \"securities\", \"transaction\", \"valued\", \"at\", \"\\$\", \"85\", \"million\", \".\"], [\"Unilab\", \"said\", \"its\", \"wholly\", \"owned\", \"MetWest\", \"Inc.\", \"unit\", \"paid\", \"\\$\"  …  \"to\", \"acquire\", \"Central\", \"'s\", \"labs\", \"in\", \"the\", \"Western\", \"U.S.\", \".\"], [\"Unilab\", \",\", \"which\", \"provides\", \"clinical\", \"laboratory\", \"services\", \",\", \"competed\", \"with\"  …  \"Tarzana\", \",\", \"Calif.\", \",\", \"in\", \"a\", \"number\", \"of\", \"areas\", \".\"], [\"Beyond\", \"removing\", \"a\", \"competitor\", \",\", \"the\", \"combination\", \"should\", \"provide\", \"``\"  …  \"said\", \"Fred\", \"Harlow\", \",\", \"Unilab\", \"'s\", \"chief\", \"financial\", \"officer\", \".\"], [\"It\", \"also\", \"will\", \"hand\", \"Unilab\", \"new\", \"markets\", \".\"], [\"In\", \"Los\", \"Angeles\", \",\", \"for\", \"example\", \",\", \"Central\", \"has\", \"had\"  …  \"has\", \"been\", \"less\", \"prominent\", \",\", \"according\", \"to\", \"Mr.\", \"Harlow\", \".\"]], Array{String,1}[[\"NNP\", \"NNP\", \"NNP\", \"POS\", \"NNP\", \"NN\", \"VBD\", \"PRP\", \"VBD\", \"DT\"  …  \"TO\", \"VB\", \"JJ\", \"NNS\", \"IN\", \"NNP\", \"POS\", \"CD\", \"NNS\", \".\"], [\"NNP\", \"VBD\", \"DT\", \"NN\", \"VBZ\", \"IN\", \"PRP\", \"TO\", \"VB\", \"CD\", \"JJ\", \"JJ\", \"NNS\", \"IN\", \"DT\", \"NNS\", \".\"], [\"DT\", \"VBP\", \",\", \"IN\", \"JJ\", \"NNS\", \",\", \"DT\", \"NN\", \"POS\"  …  \"NNS\", \"IN\", \"DT\", \"NNS\", \"CC\", \"DT\", \"JJ\", \"NN\", \"NN\", \".\"], [\"IN\", \"DT\", \"VBG\", \"NN\", \",\", \"NNP\", \"VBD\", \",\", \"PRP\", \"VBZ\", \"RB\", \"VBN\", \"CD\", \"IN\", \"DT\", \"NNS\", \"TO\", \"NNP\", \".\"], [\"NNP\", \",\", \"VBN\", \"IN\", \"NNP\", \"NNP\", \",\", \"NNP\", \",\", \"VBZ\", \"DT\", \"NN\", \",\", \"NNS\", \",\", \"JJ\", \"CC\", \"NNS\", \"VBP\", \".\"], [\"NNP\", \"NNP\", \"NNP\", \"VBD\", \"VBN\", \"TO\", \"DT\", \"NNS\", \"NN\", \"POS\"  …  \"VBN\", \"IN\", \"DT\", \"NN\", \"IN\", \"NNP\", \"NNP\", \"JJ\", \"NNP\", \".\"], [\"NNP\", \"NNP\", \",\", \"CD\", \"NNS\", \"JJ\", \",\", \"VBN\", \"IN\", \"NN\", \"NN\", \"IN\", \"DT\", \"NNP\", \"NN\", \".\"], [\"IN\", \"NNP\", \",\", \"PRP\", \"VBD\", \"DT\", \"NN\", \"IN\", \"NN\", \"NN\", \"IN\", \"NNP\", \"NNP\", \",\", \"DT\", \"NN\", \"NN\", \"NN\", \".\"], [\"NNP\", \"NNP\", \"NNP\", \"NNP\", \".\"], [\"NNP\", \"NNP\", \"NNP\", \",\", \"CD\", \"NNS\", \"JJ\", \",\", \"VBD\", \"VBN\"  …  \",\", \"NN\", \"IN\", \"DT\", \"NNP\", \"NNP\", \"NN\", \"NN\", \"NN\", \".\"]  …  [\"CC\", \"DT\", \"NN\", \"MD\", \"VB\", \"TO\", \"VB\", \"RBR\", \"JJ\", \"IN\"  …  \"NN\", \"CC\", \"VBN\", \"VBG\", \"NN\", \",\", \"NNP\", \"NNP\", \"VBD\", \".\"], [\"``\", \"PRP\", \"VBP\", \"RB\", \"VB\", \"RB\", \"WRB\", \"JJ\", \"PRP\", \"VBZ\", \"VBG\", \"TO\", \"VB\", \",\", \"''\", \"PRP\", \"VBD\", \".\"], [\"NNP\", \",\", \"DT\", \"JJ\", \"NN\", \"IN\", \"JJ\", \"JJ\", \"NNS\", \",\"  …  \"DT\", \"JJ\", \"NN\", \"IN\", \"CD\", \",\", \"NNP\", \"NNP\", \"VBD\", \".\"], [\"DT\", \"NN\", \"MD\", \"VB\", \"\\$\", \"CD\", \"IN\", \"DT\", \"NN\", \"CC\"  …  \"DT\", \"JJ\", \"CD\", \"NNS\", \"IN\", \"NN\", \",\", \"PRP\", \"VBD\", \".\"], [\"NNP\", \"NNP\", \",\", \"NNP\", \",\", \"NNP\", \",\", \"VBD\", \"PRP\", \"VBD\"  …  \"NN\", \"CC\", \"NNS\", \"NN\", \"VBN\", \"IN\", \"\\$\", \"CD\", \"CD\", \".\"], [\"NNP\", \"VBD\", \"PRP\\$\", \"RB\", \"VBN\", \"NNP\", \"NNP\", \"NN\", \"VBN\", \"\\$\"  …  \"TO\", \"VB\", \"NNP\", \"POS\", \"NNS\", \"IN\", \"DT\", \"NNP\", \"NNP\", \".\"], [\"NNP\", \",\", \"WDT\", \"VBZ\", \"JJ\", \"NN\", \"NNS\", \",\", \"VBD\", \"IN\"  …  \"NNP\", \",\", \"NNP\", \",\", \"IN\", \"DT\", \"NN\", \"IN\", \"NNS\", \".\"], [\"IN\", \"VBG\", \"DT\", \"NN\", \",\", \"DT\", \"NN\", \"MD\", \"VB\", \"``\"  …  \"VBD\", \"NNP\", \"NNP\", \",\", \"NNP\", \"POS\", \"JJ\", \"JJ\", \"NN\", \".\"], [\"PRP\", \"RB\", \"MD\", \"VB\", \"NNP\", \"JJ\", \"NNS\", \".\"], [\"IN\", \"NNP\", \"NNP\", \",\", \"IN\", \"NN\", \",\", \"NNP\", \"VBZ\", \"VBN\"  …  \"VBZ\", \"VBN\", \"RBR\", \"JJ\", \",\", \"VBG\", \"TO\", \"NNP\", \"NNP\", \".\"]])"
      ]
     },
     "execution_count": 9,
     "metadata": {},
     "output_type": "execute_result"
    }
   ],
   "source": [
    "function change_bracket(x)\n",
    "    if x == \"-LRB-\" || x == \"-LCB-\"\n",
    "        return \"(\"\n",
    "    elseif x == \"-RRB-\" || x == \"-RCB-\"\n",
    "        return \")\"\n",
    "    end\n",
    "\n",
    "    return x\n",
    "end\n",
    "\n",
    "function obtain_X_Y(dataset)\n",
    "    X = [change_bracket.(CorpusLoaders.word.(sent)) for sent in dataset]\n",
    "    Y = [CorpusLoaders.part_of_speech.(sent) for sent in dataset]\n",
    "    return X, Y\n",
    "end\n",
    "\n",
    "X_train, Y_train = obtain_X_Y(train_set)\n",
    "X_test, Y_test = obtain_X_Y(test_set)"
   ]
  },
  {
   "cell_type": "code",
   "execution_count": 10,
   "metadata": {},
   "outputs": [
    {
     "data": {
      "text/plain": [
       "evaluate (generic function with 1 method)"
      ]
     },
     "execution_count": 10,
     "metadata": {},
     "output_type": "execute_result"
    }
   ],
   "source": [
    "function evaluate(pos, X, Y)\n",
    "    num_correct = 0\n",
    "    num_total = 0\n",
    "    \n",
    "    for (x_seq, y_seq) in zip(X, Y)\n",
    "        preds = pos(x_seq)\n",
    "    \n",
    "        for i in eachindex(preds)\n",
    "            num_total += 1\n",
    "            if preds[i] == y_seq[i]\n",
    "                num_correct += 1\n",
    "            end\n",
    "        end\n",
    "    end\n",
    "\n",
    "    println(\"Accuracy: \", num_correct / num_total)\n",
    "end"
   ]
  },
  {
   "cell_type": "code",
   "execution_count": 11,
   "metadata": {},
   "outputs": [
    {
     "name": "stdout",
     "output_type": "stream",
     "text": [
      "Accuracy: 0.9004580281571226\n"
     ]
    }
   ],
   "source": [
    "evaluate(pos, X_test, Y_test)"
   ]
  },
  {
   "cell_type": "code",
   "execution_count": 12,
   "metadata": {},
   "outputs": [
    {
     "name": "stdout",
     "output_type": "stream",
     "text": [
      "Accuracy: 0.9004614432736495\n"
     ]
    }
   ],
   "source": [
    "evaluate(pos, X_train, Y_train)"
   ]
  },
  {
   "cell_type": "code",
   "execution_count": null,
   "metadata": {},
   "outputs": [],
   "source": []
  }
 ],
 "metadata": {
  "kernelspec": {
   "display_name": "Julia 1.0.3",
   "language": "julia",
   "name": "julia-1.0"
  },
  "language_info": {
   "file_extension": ".jl",
   "mimetype": "application/julia",
   "name": "julia",
   "version": "1.0.3"
  }
 },
 "nbformat": 4,
 "nbformat_minor": 2
}
